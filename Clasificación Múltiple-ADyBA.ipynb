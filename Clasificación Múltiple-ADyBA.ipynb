{
 "cells": [
  {
   "cell_type": "markdown",
   "metadata": {
    "id": "Yx5Na4i9u_gR"
   },
   "source": [
    "## **Práctica 16: Clasificación múltiple (vinos)**\n",
    "\n",
    "Nombre: Angel Damian Monroy Mendoza\n",
    "\n",
    "Nro. Cuenta: 316040707\n",
    "\n",
    "Email: adamianmm@gmail.com"
   ]
  },
  {
   "cell_type": "markdown",
   "metadata": {
    "id": "NSqi5F5bCTft"
   },
   "source": [
    "### **Contexto**\n",
    "\n",
    "Existen dos conjuntos de datos están relacionados con variantes rojas y blancas del vino portugués \"Vinho Verde\".\n",
    "Hoy en día, el vino es disfrutado cada vez más por una gama más amplia de consumidores. El \"Vinho Verde\" de Portugal ha tenido crecimiento en sus exportaciones, por lo que se vuelve de interés el garantizar la calidad el mismo.\n",
    "\n",
    "**Objetivo:** Encontrar información de interés para clasificar la calidad de un vino tinto.\n",
    "\n",
    "\n",
    "**Fuente de datos**\n",
    "Variables de entrada (basadas en pruebas fisicoquímicas):\n",
    "\n",
    "* 1 - fixed acidity (tartaric acid - g / dm^3)\n",
    "* 2 - volatile acidity (acetic acid - g / dm^3)\n",
    "* 3 - citric acid (g / dm^3)\n",
    "* 4 - residual sugar (g / dm^3)\n",
    "* 5 - chlorides (sodium chloride - g / dm^3\n",
    "* 6 - free sulfur dioxide (mg / dm^3)\n",
    "* 7 - total sulfur dioxide (mg / dm^3)\n",
    "* 8 - density (g / cm^3)\n",
    "* 9 - pH\n",
    "* 10 - sulphates (potassium sulphate - g / dm3)\n",
    "* 11 - alcohol (% by volume) \n",
    "* 12 - quality (score between 0 and 10)"
   ]
  },
  {
   "cell_type": "markdown",
   "metadata": {
    "id": "bwvGIqSpvBaz"
   },
   "source": [
    "# **I. Acceso a datos y selección de características**\n",
    "\n",
    "#### **1) Acceso a los datos**"
   ]
  },
  {
   "cell_type": "code",
   "execution_count": 2,
   "metadata": {
    "executionInfo": {
     "elapsed": 708,
     "status": "ok",
     "timestamp": 1668463122067,
     "user": {
      "displayName": "Guillermo Molero-Castillo",
      "userId": "05385957137518665248"
     },
     "user_tz": 360
    },
    "id": "zdE_1ux9yHou"
   },
   "outputs": [],
   "source": [
    "import pandas as pd               # Para la manipulación y análisis de datos\n",
    "import numpy as np                # Para crear vectores y matrices n dimensionales\n",
    "import matplotlib.pyplot as plt   # Para la generación de gráficas a partir de los datos\n",
    "import seaborn as sns             # Para la visualización de datos basado en matplotlib\n",
    "%matplotlib inline"
   ]
  },
  {
   "cell_type": "code",
   "execution_count": 4,
   "metadata": {
    "colab": {
     "base_uri": "https://localhost:8080/",
     "height": 129
    },
    "executionInfo": {
     "elapsed": 21550,
     "status": "ok",
     "timestamp": 1668463146753,
     "user": {
      "displayName": "Guillermo Molero-Castillo",
      "userId": "05385957137518665248"
     },
     "user_tz": 360
    },
    "id": "EGhfq57mxZMz",
    "outputId": "34907e27-8a10-49bd-bd47-74c46fe4877c",
    "scrolled": true
   },
   "outputs": [
    {
     "data": {
      "text/html": [
       "<div>\n",
       "<style scoped>\n",
       "    .dataframe tbody tr th:only-of-type {\n",
       "        vertical-align: middle;\n",
       "    }\n",
       "\n",
       "    .dataframe tbody tr th {\n",
       "        vertical-align: top;\n",
       "    }\n",
       "\n",
       "    .dataframe thead th {\n",
       "        text-align: right;\n",
       "    }\n",
       "</style>\n",
       "<table border=\"1\" class=\"dataframe\">\n",
       "  <thead>\n",
       "    <tr style=\"text-align: right;\">\n",
       "      <th></th>\n",
       "      <th>fixed.acidity</th>\n",
       "      <th>volatile.acidity</th>\n",
       "      <th>citric.acid</th>\n",
       "      <th>residual.sugar</th>\n",
       "      <th>chlorides</th>\n",
       "      <th>free.sulfur.dioxide</th>\n",
       "      <th>total.sulfur.dioxide</th>\n",
       "      <th>density</th>\n",
       "      <th>pH</th>\n",
       "      <th>sulphates</th>\n",
       "      <th>alcohol</th>\n",
       "      <th>quality</th>\n",
       "    </tr>\n",
       "  </thead>\n",
       "  <tbody>\n",
       "    <tr>\n",
       "      <th>1</th>\n",
       "      <td>7.4</td>\n",
       "      <td>0.700</td>\n",
       "      <td>0.00</td>\n",
       "      <td>1.9</td>\n",
       "      <td>0.076</td>\n",
       "      <td>11.0</td>\n",
       "      <td>34.0</td>\n",
       "      <td>0.99780</td>\n",
       "      <td>3.51</td>\n",
       "      <td>0.56</td>\n",
       "      <td>9.4</td>\n",
       "      <td>5</td>\n",
       "    </tr>\n",
       "    <tr>\n",
       "      <th>2</th>\n",
       "      <td>7.8</td>\n",
       "      <td>0.880</td>\n",
       "      <td>0.00</td>\n",
       "      <td>2.6</td>\n",
       "      <td>0.098</td>\n",
       "      <td>25.0</td>\n",
       "      <td>67.0</td>\n",
       "      <td>0.99680</td>\n",
       "      <td>3.20</td>\n",
       "      <td>0.68</td>\n",
       "      <td>9.8</td>\n",
       "      <td>5</td>\n",
       "    </tr>\n",
       "    <tr>\n",
       "      <th>3</th>\n",
       "      <td>7.8</td>\n",
       "      <td>0.760</td>\n",
       "      <td>0.04</td>\n",
       "      <td>2.3</td>\n",
       "      <td>0.092</td>\n",
       "      <td>15.0</td>\n",
       "      <td>54.0</td>\n",
       "      <td>0.99700</td>\n",
       "      <td>3.26</td>\n",
       "      <td>0.65</td>\n",
       "      <td>9.8</td>\n",
       "      <td>5</td>\n",
       "    </tr>\n",
       "    <tr>\n",
       "      <th>4</th>\n",
       "      <td>11.2</td>\n",
       "      <td>0.280</td>\n",
       "      <td>0.56</td>\n",
       "      <td>1.9</td>\n",
       "      <td>0.075</td>\n",
       "      <td>17.0</td>\n",
       "      <td>60.0</td>\n",
       "      <td>0.99800</td>\n",
       "      <td>3.16</td>\n",
       "      <td>0.58</td>\n",
       "      <td>9.8</td>\n",
       "      <td>6</td>\n",
       "    </tr>\n",
       "    <tr>\n",
       "      <th>5</th>\n",
       "      <td>7.4</td>\n",
       "      <td>0.700</td>\n",
       "      <td>0.00</td>\n",
       "      <td>1.9</td>\n",
       "      <td>0.076</td>\n",
       "      <td>11.0</td>\n",
       "      <td>34.0</td>\n",
       "      <td>0.99780</td>\n",
       "      <td>3.51</td>\n",
       "      <td>0.56</td>\n",
       "      <td>9.4</td>\n",
       "      <td>5</td>\n",
       "    </tr>\n",
       "    <tr>\n",
       "      <th>...</th>\n",
       "      <td>...</td>\n",
       "      <td>...</td>\n",
       "      <td>...</td>\n",
       "      <td>...</td>\n",
       "      <td>...</td>\n",
       "      <td>...</td>\n",
       "      <td>...</td>\n",
       "      <td>...</td>\n",
       "      <td>...</td>\n",
       "      <td>...</td>\n",
       "      <td>...</td>\n",
       "      <td>...</td>\n",
       "    </tr>\n",
       "    <tr>\n",
       "      <th>1595</th>\n",
       "      <td>6.2</td>\n",
       "      <td>0.600</td>\n",
       "      <td>0.08</td>\n",
       "      <td>2.0</td>\n",
       "      <td>0.090</td>\n",
       "      <td>32.0</td>\n",
       "      <td>44.0</td>\n",
       "      <td>0.99490</td>\n",
       "      <td>3.45</td>\n",
       "      <td>0.58</td>\n",
       "      <td>10.5</td>\n",
       "      <td>5</td>\n",
       "    </tr>\n",
       "    <tr>\n",
       "      <th>1596</th>\n",
       "      <td>5.9</td>\n",
       "      <td>0.550</td>\n",
       "      <td>0.10</td>\n",
       "      <td>2.2</td>\n",
       "      <td>0.062</td>\n",
       "      <td>39.0</td>\n",
       "      <td>51.0</td>\n",
       "      <td>0.99512</td>\n",
       "      <td>3.52</td>\n",
       "      <td>0.76</td>\n",
       "      <td>11.2</td>\n",
       "      <td>6</td>\n",
       "    </tr>\n",
       "    <tr>\n",
       "      <th>1597</th>\n",
       "      <td>6.3</td>\n",
       "      <td>0.510</td>\n",
       "      <td>0.13</td>\n",
       "      <td>2.3</td>\n",
       "      <td>0.076</td>\n",
       "      <td>29.0</td>\n",
       "      <td>40.0</td>\n",
       "      <td>0.99574</td>\n",
       "      <td>3.42</td>\n",
       "      <td>0.75</td>\n",
       "      <td>11.0</td>\n",
       "      <td>6</td>\n",
       "    </tr>\n",
       "    <tr>\n",
       "      <th>1598</th>\n",
       "      <td>5.9</td>\n",
       "      <td>0.645</td>\n",
       "      <td>0.12</td>\n",
       "      <td>2.0</td>\n",
       "      <td>0.075</td>\n",
       "      <td>32.0</td>\n",
       "      <td>44.0</td>\n",
       "      <td>0.99547</td>\n",
       "      <td>3.57</td>\n",
       "      <td>0.71</td>\n",
       "      <td>10.2</td>\n",
       "      <td>5</td>\n",
       "    </tr>\n",
       "    <tr>\n",
       "      <th>1599</th>\n",
       "      <td>6.0</td>\n",
       "      <td>0.310</td>\n",
       "      <td>0.47</td>\n",
       "      <td>3.6</td>\n",
       "      <td>0.067</td>\n",
       "      <td>18.0</td>\n",
       "      <td>42.0</td>\n",
       "      <td>0.99549</td>\n",
       "      <td>3.39</td>\n",
       "      <td>0.66</td>\n",
       "      <td>11.0</td>\n",
       "      <td>6</td>\n",
       "    </tr>\n",
       "  </tbody>\n",
       "</table>\n",
       "<p>1599 rows × 12 columns</p>\n",
       "</div>"
      ],
      "text/plain": [
       "      fixed.acidity  volatile.acidity  citric.acid  residual.sugar  chlorides  \\\n",
       "1               7.4             0.700         0.00             1.9      0.076   \n",
       "2               7.8             0.880         0.00             2.6      0.098   \n",
       "3               7.8             0.760         0.04             2.3      0.092   \n",
       "4              11.2             0.280         0.56             1.9      0.075   \n",
       "5               7.4             0.700         0.00             1.9      0.076   \n",
       "...             ...               ...          ...             ...        ...   \n",
       "1595            6.2             0.600         0.08             2.0      0.090   \n",
       "1596            5.9             0.550         0.10             2.2      0.062   \n",
       "1597            6.3             0.510         0.13             2.3      0.076   \n",
       "1598            5.9             0.645         0.12             2.0      0.075   \n",
       "1599            6.0             0.310         0.47             3.6      0.067   \n",
       "\n",
       "      free.sulfur.dioxide  total.sulfur.dioxide  density    pH  sulphates  \\\n",
       "1                    11.0                  34.0  0.99780  3.51       0.56   \n",
       "2                    25.0                  67.0  0.99680  3.20       0.68   \n",
       "3                    15.0                  54.0  0.99700  3.26       0.65   \n",
       "4                    17.0                  60.0  0.99800  3.16       0.58   \n",
       "5                    11.0                  34.0  0.99780  3.51       0.56   \n",
       "...                   ...                   ...      ...   ...        ...   \n",
       "1595                 32.0                  44.0  0.99490  3.45       0.58   \n",
       "1596                 39.0                  51.0  0.99512  3.52       0.76   \n",
       "1597                 29.0                  40.0  0.99574  3.42       0.75   \n",
       "1598                 32.0                  44.0  0.99547  3.57       0.71   \n",
       "1599                 18.0                  42.0  0.99549  3.39       0.66   \n",
       "\n",
       "      alcohol  quality  \n",
       "1         9.4        5  \n",
       "2         9.8        5  \n",
       "3         9.8        5  \n",
       "4         9.8        6  \n",
       "5         9.4        5  \n",
       "...       ...      ...  \n",
       "1595     10.5        5  \n",
       "1596     11.2        6  \n",
       "1597     11.0        6  \n",
       "1598     10.2        5  \n",
       "1599     11.0        6  \n",
       "\n",
       "[1599 rows x 12 columns]"
      ]
     },
     "execution_count": 4,
     "metadata": {},
     "output_type": "execute_result"
    }
   ],
   "source": [
    "url='https://raw.githubusercontent.com/aDamianMonroym/Mineria-de-Datos/main/Datos/wineQualityReds.csv'\n",
    "Vinos = pd.read_csv(url, index_col = 'Unnamed: 0')\n",
    "Vinos"
   ]
  },
  {
   "cell_type": "code",
   "execution_count": 5,
   "metadata": {
    "colab": {
     "base_uri": "https://localhost:8080/"
    },
    "executionInfo": {
     "elapsed": 6,
     "status": "ok",
     "timestamp": 1668463157765,
     "user": {
      "displayName": "Guillermo Molero-Castillo",
      "userId": "05385957137518665248"
     },
     "user_tz": 360
    },
    "id": "Xy1OfVV23Kfh",
    "outputId": "d8dd64e5-e4dd-4edb-d801-1637e9076a9f"
   },
   "outputs": [
    {
     "name": "stdout",
     "output_type": "stream",
     "text": [
      "<class 'pandas.core.frame.DataFrame'>\n",
      "Int64Index: 1599 entries, 1 to 1599\n",
      "Data columns (total 12 columns):\n",
      " #   Column                Non-Null Count  Dtype  \n",
      "---  ------                --------------  -----  \n",
      " 0   fixed.acidity         1599 non-null   float64\n",
      " 1   volatile.acidity      1599 non-null   float64\n",
      " 2   citric.acid           1599 non-null   float64\n",
      " 3   residual.sugar        1599 non-null   float64\n",
      " 4   chlorides             1599 non-null   float64\n",
      " 5   free.sulfur.dioxide   1599 non-null   float64\n",
      " 6   total.sulfur.dioxide  1599 non-null   float64\n",
      " 7   density               1599 non-null   float64\n",
      " 8   pH                    1599 non-null   float64\n",
      " 9   sulphates             1599 non-null   float64\n",
      " 10  alcohol               1599 non-null   float64\n",
      " 11  quality               1599 non-null   int64  \n",
      "dtypes: float64(11), int64(1)\n",
      "memory usage: 162.4 KB\n"
     ]
    }
   ],
   "source": [
    "Vinos.info()"
   ]
  },
  {
   "cell_type": "code",
   "execution_count": 6,
   "metadata": {
    "colab": {
     "base_uri": "https://localhost:8080/"
    },
    "executionInfo": {
     "elapsed": 5,
     "status": "ok",
     "timestamp": 1668463161994,
     "user": {
      "displayName": "Guillermo Molero-Castillo",
      "userId": "05385957137518665248"
     },
     "user_tz": 360
    },
    "id": "bQ4fy3grzf0b",
    "outputId": "2d771b9f-3e9e-4e95-d1f4-7876b5dda338"
   },
   "outputs": [
    {
     "name": "stdout",
     "output_type": "stream",
     "text": [
      "quality\n",
      "3     10\n",
      "4     53\n",
      "5    681\n",
      "6    638\n",
      "7    199\n",
      "8     18\n",
      "dtype: int64\n"
     ]
    }
   ],
   "source": [
    "print(Vinos.groupby('quality').size())"
   ]
  },
  {
   "cell_type": "code",
   "execution_count": 7,
   "metadata": {
    "colab": {
     "base_uri": "https://localhost:8080/",
     "height": 364
    },
    "executionInfo": {
     "elapsed": 562,
     "status": "ok",
     "timestamp": 1668466366211,
     "user": {
      "displayName": "Guillermo Molero-Castillo",
      "userId": "05385957137518665248"
     },
     "user_tz": 360
    },
    "id": "-Nl6nyevWRvX",
    "outputId": "9f1c5f26-b6c2-4a94-8583-8d52329f9b1b"
   },
   "outputs": [
    {
     "data": {
      "text/html": [
       "<div>\n",
       "<style scoped>\n",
       "    .dataframe tbody tr th:only-of-type {\n",
       "        vertical-align: middle;\n",
       "    }\n",
       "\n",
       "    .dataframe tbody tr th {\n",
       "        vertical-align: top;\n",
       "    }\n",
       "\n",
       "    .dataframe thead th {\n",
       "        text-align: right;\n",
       "    }\n",
       "</style>\n",
       "<table border=\"1\" class=\"dataframe\">\n",
       "  <thead>\n",
       "    <tr style=\"text-align: right;\">\n",
       "      <th></th>\n",
       "      <th>fixed.acidity</th>\n",
       "      <th>volatile.acidity</th>\n",
       "      <th>citric.acid</th>\n",
       "      <th>residual.sugar</th>\n",
       "      <th>chlorides</th>\n",
       "      <th>free.sulfur.dioxide</th>\n",
       "      <th>total.sulfur.dioxide</th>\n",
       "      <th>density</th>\n",
       "      <th>pH</th>\n",
       "      <th>sulphates</th>\n",
       "      <th>alcohol</th>\n",
       "      <th>quality</th>\n",
       "    </tr>\n",
       "  </thead>\n",
       "  <tbody>\n",
       "    <tr>\n",
       "      <th>count</th>\n",
       "      <td>1599.000000</td>\n",
       "      <td>1599.000000</td>\n",
       "      <td>1599.000000</td>\n",
       "      <td>1599.000000</td>\n",
       "      <td>1599.000000</td>\n",
       "      <td>1599.000000</td>\n",
       "      <td>1599.000000</td>\n",
       "      <td>1599.000000</td>\n",
       "      <td>1599.000000</td>\n",
       "      <td>1599.000000</td>\n",
       "      <td>1599.000000</td>\n",
       "      <td>1599.000000</td>\n",
       "    </tr>\n",
       "    <tr>\n",
       "      <th>mean</th>\n",
       "      <td>8.319637</td>\n",
       "      <td>0.527821</td>\n",
       "      <td>0.270976</td>\n",
       "      <td>2.538806</td>\n",
       "      <td>0.087467</td>\n",
       "      <td>15.874922</td>\n",
       "      <td>46.467792</td>\n",
       "      <td>0.996747</td>\n",
       "      <td>3.311113</td>\n",
       "      <td>0.658149</td>\n",
       "      <td>10.422983</td>\n",
       "      <td>5.636023</td>\n",
       "    </tr>\n",
       "    <tr>\n",
       "      <th>std</th>\n",
       "      <td>1.741096</td>\n",
       "      <td>0.179060</td>\n",
       "      <td>0.194801</td>\n",
       "      <td>1.409928</td>\n",
       "      <td>0.047065</td>\n",
       "      <td>10.460157</td>\n",
       "      <td>32.895324</td>\n",
       "      <td>0.001887</td>\n",
       "      <td>0.154386</td>\n",
       "      <td>0.169507</td>\n",
       "      <td>1.065668</td>\n",
       "      <td>0.807569</td>\n",
       "    </tr>\n",
       "    <tr>\n",
       "      <th>min</th>\n",
       "      <td>4.600000</td>\n",
       "      <td>0.120000</td>\n",
       "      <td>0.000000</td>\n",
       "      <td>0.900000</td>\n",
       "      <td>0.012000</td>\n",
       "      <td>1.000000</td>\n",
       "      <td>6.000000</td>\n",
       "      <td>0.990070</td>\n",
       "      <td>2.740000</td>\n",
       "      <td>0.330000</td>\n",
       "      <td>8.400000</td>\n",
       "      <td>3.000000</td>\n",
       "    </tr>\n",
       "    <tr>\n",
       "      <th>25%</th>\n",
       "      <td>7.100000</td>\n",
       "      <td>0.390000</td>\n",
       "      <td>0.090000</td>\n",
       "      <td>1.900000</td>\n",
       "      <td>0.070000</td>\n",
       "      <td>7.000000</td>\n",
       "      <td>22.000000</td>\n",
       "      <td>0.995600</td>\n",
       "      <td>3.210000</td>\n",
       "      <td>0.550000</td>\n",
       "      <td>9.500000</td>\n",
       "      <td>5.000000</td>\n",
       "    </tr>\n",
       "    <tr>\n",
       "      <th>50%</th>\n",
       "      <td>7.900000</td>\n",
       "      <td>0.520000</td>\n",
       "      <td>0.260000</td>\n",
       "      <td>2.200000</td>\n",
       "      <td>0.079000</td>\n",
       "      <td>14.000000</td>\n",
       "      <td>38.000000</td>\n",
       "      <td>0.996750</td>\n",
       "      <td>3.310000</td>\n",
       "      <td>0.620000</td>\n",
       "      <td>10.200000</td>\n",
       "      <td>6.000000</td>\n",
       "    </tr>\n",
       "    <tr>\n",
       "      <th>75%</th>\n",
       "      <td>9.200000</td>\n",
       "      <td>0.640000</td>\n",
       "      <td>0.420000</td>\n",
       "      <td>2.600000</td>\n",
       "      <td>0.090000</td>\n",
       "      <td>21.000000</td>\n",
       "      <td>62.000000</td>\n",
       "      <td>0.997835</td>\n",
       "      <td>3.400000</td>\n",
       "      <td>0.730000</td>\n",
       "      <td>11.100000</td>\n",
       "      <td>6.000000</td>\n",
       "    </tr>\n",
       "    <tr>\n",
       "      <th>max</th>\n",
       "      <td>15.900000</td>\n",
       "      <td>1.580000</td>\n",
       "      <td>1.000000</td>\n",
       "      <td>15.500000</td>\n",
       "      <td>0.611000</td>\n",
       "      <td>72.000000</td>\n",
       "      <td>289.000000</td>\n",
       "      <td>1.003690</td>\n",
       "      <td>4.010000</td>\n",
       "      <td>2.000000</td>\n",
       "      <td>14.900000</td>\n",
       "      <td>8.000000</td>\n",
       "    </tr>\n",
       "  </tbody>\n",
       "</table>\n",
       "</div>"
      ],
      "text/plain": [
       "       fixed.acidity  volatile.acidity  citric.acid  residual.sugar  \\\n",
       "count    1599.000000       1599.000000  1599.000000     1599.000000   \n",
       "mean        8.319637          0.527821     0.270976        2.538806   \n",
       "std         1.741096          0.179060     0.194801        1.409928   \n",
       "min         4.600000          0.120000     0.000000        0.900000   \n",
       "25%         7.100000          0.390000     0.090000        1.900000   \n",
       "50%         7.900000          0.520000     0.260000        2.200000   \n",
       "75%         9.200000          0.640000     0.420000        2.600000   \n",
       "max        15.900000          1.580000     1.000000       15.500000   \n",
       "\n",
       "         chlorides  free.sulfur.dioxide  total.sulfur.dioxide      density  \\\n",
       "count  1599.000000          1599.000000           1599.000000  1599.000000   \n",
       "mean      0.087467            15.874922             46.467792     0.996747   \n",
       "std       0.047065            10.460157             32.895324     0.001887   \n",
       "min       0.012000             1.000000              6.000000     0.990070   \n",
       "25%       0.070000             7.000000             22.000000     0.995600   \n",
       "50%       0.079000            14.000000             38.000000     0.996750   \n",
       "75%       0.090000            21.000000             62.000000     0.997835   \n",
       "max       0.611000            72.000000            289.000000     1.003690   \n",
       "\n",
       "                pH    sulphates      alcohol      quality  \n",
       "count  1599.000000  1599.000000  1599.000000  1599.000000  \n",
       "mean      3.311113     0.658149    10.422983     5.636023  \n",
       "std       0.154386     0.169507     1.065668     0.807569  \n",
       "min       2.740000     0.330000     8.400000     3.000000  \n",
       "25%       3.210000     0.550000     9.500000     5.000000  \n",
       "50%       3.310000     0.620000    10.200000     6.000000  \n",
       "75%       3.400000     0.730000    11.100000     6.000000  \n",
       "max       4.010000     2.000000    14.900000     8.000000  "
      ]
     },
     "execution_count": 7,
     "metadata": {},
     "output_type": "execute_result"
    }
   ],
   "source": [
    "Vinos.describe()"
   ]
  },
  {
   "cell_type": "markdown",
   "metadata": {
    "id": "rw4vE-CYz1zB"
   },
   "source": [
    "#### **2) Selección de características**\n",
    "\n",
    "A través de un mapa de calor de identifican posibles variables correlacionadas."
   ]
  },
  {
   "cell_type": "code",
   "execution_count": 8,
   "metadata": {
    "colab": {
     "base_uri": "https://localhost:8080/",
     "height": 549
    },
    "executionInfo": {
     "elapsed": 686,
     "status": "ok",
     "timestamp": 1668466374000,
     "user": {
      "displayName": "Guillermo Molero-Castillo",
      "userId": "05385957137518665248"
     },
     "user_tz": 360
    },
    "id": "g2U2-Zr70bp5",
    "outputId": "c07ea12b-c498-4f3d-dbf7-82cfb348852d"
   },
   "outputs": [
    {
     "data": {
      "image/png": "[encoded data removed]",
      "text/plain": [
       "<Figure size 1400x700 with 2 Axes>"
      ]
     },
     "metadata": {},
     "output_type": "display_data"
    }
   ],
   "source": [
    "plt.figure(figsize=(14,7))\n",
    "MatrizInf = np.triu(Vinos.corr())\n",
    "sns.heatmap(Vinos.corr(), cmap='RdBu_r', annot=True, mask=MatrizInf)\n",
    "plt.show()"
   ]
  },
  {
   "cell_type": "markdown",
   "metadata": {
    "id": "7E-nGMlFXQuw"
   },
   "source": [
    "**Varibles seleccionadas:**\n",
    "\n",
    "Debido a los resultados alcanzados en una práctica anterior, por medio del Análisis de Componentes Principales se obtuvieron las que las variables más representativas eran:\n",
    "* fixed.acidity.\n",
    "* residual.sugar.\n",
    "* chlorides.\n",
    "* free.sulfur.dioxide.\n",
    "* sulphates.\n",
    "* alcohol."
   ]
  },
  {
   "cell_type": "code",
   "execution_count": 9,
   "metadata": {},
   "outputs": [
    {
     "data": {
      "text/html": [
       "<div>\n",
       "<style scoped>\n",
       "    .dataframe tbody tr th:only-of-type {\n",
       "        vertical-align: middle;\n",
       "    }\n",
       "\n",
       "    .dataframe tbody tr th {\n",
       "        vertical-align: top;\n",
       "    }\n",
       "\n",
       "    .dataframe thead th {\n",
       "        text-align: right;\n",
       "    }\n",
       "</style>\n",
       "<table border=\"1\" class=\"dataframe\">\n",
       "  <thead>\n",
       "    <tr style=\"text-align: right;\">\n",
       "      <th></th>\n",
       "      <th>0</th>\n",
       "      <th>1</th>\n",
       "      <th>2</th>\n",
       "      <th>3</th>\n",
       "      <th>4</th>\n",
       "      <th>5</th>\n",
       "    </tr>\n",
       "  </thead>\n",
       "  <tbody>\n",
       "    <tr>\n",
       "      <th>0</th>\n",
       "      <td>7.4</td>\n",
       "      <td>1.9</td>\n",
       "      <td>0.076</td>\n",
       "      <td>11.0</td>\n",
       "      <td>0.56</td>\n",
       "      <td>9.4</td>\n",
       "    </tr>\n",
       "    <tr>\n",
       "      <th>1</th>\n",
       "      <td>7.8</td>\n",
       "      <td>2.6</td>\n",
       "      <td>0.098</td>\n",
       "      <td>25.0</td>\n",
       "      <td>0.68</td>\n",
       "      <td>9.8</td>\n",
       "    </tr>\n",
       "    <tr>\n",
       "      <th>2</th>\n",
       "      <td>7.8</td>\n",
       "      <td>2.3</td>\n",
       "      <td>0.092</td>\n",
       "      <td>15.0</td>\n",
       "      <td>0.65</td>\n",
       "      <td>9.8</td>\n",
       "    </tr>\n",
       "    <tr>\n",
       "      <th>3</th>\n",
       "      <td>11.2</td>\n",
       "      <td>1.9</td>\n",
       "      <td>0.075</td>\n",
       "      <td>17.0</td>\n",
       "      <td>0.58</td>\n",
       "      <td>9.8</td>\n",
       "    </tr>\n",
       "    <tr>\n",
       "      <th>4</th>\n",
       "      <td>7.4</td>\n",
       "      <td>1.9</td>\n",
       "      <td>0.076</td>\n",
       "      <td>11.0</td>\n",
       "      <td>0.56</td>\n",
       "      <td>9.4</td>\n",
       "    </tr>\n",
       "    <tr>\n",
       "      <th>...</th>\n",
       "      <td>...</td>\n",
       "      <td>...</td>\n",
       "      <td>...</td>\n",
       "      <td>...</td>\n",
       "      <td>...</td>\n",
       "      <td>...</td>\n",
       "    </tr>\n",
       "    <tr>\n",
       "      <th>1594</th>\n",
       "      <td>6.2</td>\n",
       "      <td>2.0</td>\n",
       "      <td>0.090</td>\n",
       "      <td>32.0</td>\n",
       "      <td>0.58</td>\n",
       "      <td>10.5</td>\n",
       "    </tr>\n",
       "    <tr>\n",
       "      <th>1595</th>\n",
       "      <td>5.9</td>\n",
       "      <td>2.2</td>\n",
       "      <td>0.062</td>\n",
       "      <td>39.0</td>\n",
       "      <td>0.76</td>\n",
       "      <td>11.2</td>\n",
       "    </tr>\n",
       "    <tr>\n",
       "      <th>1596</th>\n",
       "      <td>6.3</td>\n",
       "      <td>2.3</td>\n",
       "      <td>0.076</td>\n",
       "      <td>29.0</td>\n",
       "      <td>0.75</td>\n",
       "      <td>11.0</td>\n",
       "    </tr>\n",
       "    <tr>\n",
       "      <th>1597</th>\n",
       "      <td>5.9</td>\n",
       "      <td>2.0</td>\n",
       "      <td>0.075</td>\n",
       "      <td>32.0</td>\n",
       "      <td>0.71</td>\n",
       "      <td>10.2</td>\n",
       "    </tr>\n",
       "    <tr>\n",
       "      <th>1598</th>\n",
       "      <td>6.0</td>\n",
       "      <td>3.6</td>\n",
       "      <td>0.067</td>\n",
       "      <td>18.0</td>\n",
       "      <td>0.66</td>\n",
       "      <td>11.0</td>\n",
       "    </tr>\n",
       "  </tbody>\n",
       "</table>\n",
       "<p>1599 rows × 6 columns</p>\n",
       "</div>"
      ],
      "text/plain": [
       "         0    1      2     3     4     5\n",
       "0      7.4  1.9  0.076  11.0  0.56   9.4\n",
       "1      7.8  2.6  0.098  25.0  0.68   9.8\n",
       "2      7.8  2.3  0.092  15.0  0.65   9.8\n",
       "3     11.2  1.9  0.075  17.0  0.58   9.8\n",
       "4      7.4  1.9  0.076  11.0  0.56   9.4\n",
       "...    ...  ...    ...   ...   ...   ...\n",
       "1594   6.2  2.0  0.090  32.0  0.58  10.5\n",
       "1595   5.9  2.2  0.062  39.0  0.76  11.2\n",
       "1596   6.3  2.3  0.076  29.0  0.75  11.0\n",
       "1597   5.9  2.0  0.075  32.0  0.71  10.2\n",
       "1598   6.0  3.6  0.067  18.0  0.66  11.0\n",
       "\n",
       "[1599 rows x 6 columns]"
      ]
     },
     "execution_count": 9,
     "metadata": {},
     "output_type": "execute_result"
    }
   ],
   "source": [
    "MatrizVinos = np.array(Vinos[['fixed.acidity',\n",
    "                    'residual.sugar',\n",
    "                    'chlorides',\n",
    "                    'free.sulfur.dioxide',                    \n",
    "                    'sulphates',\n",
    "                    'alcohol']])\n",
    "pd.DataFrame(MatrizVinos)"
   ]
  },
  {
   "cell_type": "markdown",
   "metadata": {},
   "source": [
    "# II Modelo Híbrido"
   ]
  },
  {
   "cell_type": "markdown",
   "metadata": {},
   "source": [
    "## K-Means"
   ]
  },
  {
   "cell_type": "code",
   "execution_count": 10,
   "metadata": {},
   "outputs": [],
   "source": [
    "from sklearn.preprocessing import StandardScaler, MinMaxScaler  \n",
    "estandarizar = StandardScaler()                               # Se instancia el objeto StandardScaler o MinMaxScaler \n",
    "MEstandarizada = estandarizar.fit_transform(MatrizVinos)   # Se calculan la media y desviación y se escalan los datos"
   ]
  },
  {
   "cell_type": "code",
   "execution_count": 11,
   "metadata": {},
   "outputs": [
    {
     "data": {
      "text/html": [
       "<div>\n",
       "<style scoped>\n",
       "    .dataframe tbody tr th:only-of-type {\n",
       "        vertical-align: middle;\n",
       "    }\n",
       "\n",
       "    .dataframe tbody tr th {\n",
       "        vertical-align: top;\n",
       "    }\n",
       "\n",
       "    .dataframe thead th {\n",
       "        text-align: right;\n",
       "    }\n",
       "</style>\n",
       "<table border=\"1\" class=\"dataframe\">\n",
       "  <thead>\n",
       "    <tr style=\"text-align: right;\">\n",
       "      <th></th>\n",
       "      <th>0</th>\n",
       "      <th>1</th>\n",
       "      <th>2</th>\n",
       "      <th>3</th>\n",
       "      <th>4</th>\n",
       "      <th>5</th>\n",
       "    </tr>\n",
       "  </thead>\n",
       "  <tbody>\n",
       "    <tr>\n",
       "      <th>0</th>\n",
       "      <td>-0.528360</td>\n",
       "      <td>-0.453218</td>\n",
       "      <td>-0.243707</td>\n",
       "      <td>-0.466193</td>\n",
       "      <td>-0.579207</td>\n",
       "      <td>-0.960246</td>\n",
       "    </tr>\n",
       "    <tr>\n",
       "      <th>1</th>\n",
       "      <td>-0.298547</td>\n",
       "      <td>0.043416</td>\n",
       "      <td>0.223875</td>\n",
       "      <td>0.872638</td>\n",
       "      <td>0.128950</td>\n",
       "      <td>-0.584777</td>\n",
       "    </tr>\n",
       "    <tr>\n",
       "      <th>2</th>\n",
       "      <td>-0.298547</td>\n",
       "      <td>-0.169427</td>\n",
       "      <td>0.096353</td>\n",
       "      <td>-0.083669</td>\n",
       "      <td>-0.048089</td>\n",
       "      <td>-0.584777</td>\n",
       "    </tr>\n",
       "    <tr>\n",
       "      <th>3</th>\n",
       "      <td>1.654856</td>\n",
       "      <td>-0.453218</td>\n",
       "      <td>-0.264960</td>\n",
       "      <td>0.107592</td>\n",
       "      <td>-0.461180</td>\n",
       "      <td>-0.584777</td>\n",
       "    </tr>\n",
       "    <tr>\n",
       "      <th>4</th>\n",
       "      <td>-0.528360</td>\n",
       "      <td>-0.453218</td>\n",
       "      <td>-0.243707</td>\n",
       "      <td>-0.466193</td>\n",
       "      <td>-0.579207</td>\n",
       "      <td>-0.960246</td>\n",
       "    </tr>\n",
       "    <tr>\n",
       "      <th>...</th>\n",
       "      <td>...</td>\n",
       "      <td>...</td>\n",
       "      <td>...</td>\n",
       "      <td>...</td>\n",
       "      <td>...</td>\n",
       "      <td>...</td>\n",
       "    </tr>\n",
       "    <tr>\n",
       "      <th>1594</th>\n",
       "      <td>-1.217796</td>\n",
       "      <td>-0.382271</td>\n",
       "      <td>0.053845</td>\n",
       "      <td>1.542054</td>\n",
       "      <td>-0.461180</td>\n",
       "      <td>0.072294</td>\n",
       "    </tr>\n",
       "    <tr>\n",
       "      <th>1595</th>\n",
       "      <td>-1.390155</td>\n",
       "      <td>-0.240375</td>\n",
       "      <td>-0.541259</td>\n",
       "      <td>2.211469</td>\n",
       "      <td>0.601055</td>\n",
       "      <td>0.729364</td>\n",
       "    </tr>\n",
       "    <tr>\n",
       "      <th>1596</th>\n",
       "      <td>-1.160343</td>\n",
       "      <td>-0.169427</td>\n",
       "      <td>-0.243707</td>\n",
       "      <td>1.255161</td>\n",
       "      <td>0.542042</td>\n",
       "      <td>0.541630</td>\n",
       "    </tr>\n",
       "    <tr>\n",
       "      <th>1597</th>\n",
       "      <td>-1.390155</td>\n",
       "      <td>-0.382271</td>\n",
       "      <td>-0.264960</td>\n",
       "      <td>1.542054</td>\n",
       "      <td>0.305990</td>\n",
       "      <td>-0.209308</td>\n",
       "    </tr>\n",
       "    <tr>\n",
       "      <th>1598</th>\n",
       "      <td>-1.332702</td>\n",
       "      <td>0.752894</td>\n",
       "      <td>-0.434990</td>\n",
       "      <td>0.203223</td>\n",
       "      <td>0.010924</td>\n",
       "      <td>0.541630</td>\n",
       "    </tr>\n",
       "  </tbody>\n",
       "</table>\n",
       "<p>1599 rows × 6 columns</p>\n",
       "</div>"
      ],
      "text/plain": [
       "             0         1         2         3         4         5\n",
       "0    -0.528360 -0.453218 -0.243707 -0.466193 -0.579207 -0.960246\n",
       "1    -0.298547  0.043416  0.223875  0.872638  0.128950 -0.584777\n",
       "2    -0.298547 -0.169427  0.096353 -0.083669 -0.048089 -0.584777\n",
       "3     1.654856 -0.453218 -0.264960  0.107592 -0.461180 -0.584777\n",
       "4    -0.528360 -0.453218 -0.243707 -0.466193 -0.579207 -0.960246\n",
       "...        ...       ...       ...       ...       ...       ...\n",
       "1594 -1.217796 -0.382271  0.053845  1.542054 -0.461180  0.072294\n",
       "1595 -1.390155 -0.240375 -0.541259  2.211469  0.601055  0.729364\n",
       "1596 -1.160343 -0.169427 -0.243707  1.255161  0.542042  0.541630\n",
       "1597 -1.390155 -0.382271 -0.264960  1.542054  0.305990 -0.209308\n",
       "1598 -1.332702  0.752894 -0.434990  0.203223  0.010924  0.541630\n",
       "\n",
       "[1599 rows x 6 columns]"
      ]
     },
     "execution_count": 11,
     "metadata": {},
     "output_type": "execute_result"
    }
   ],
   "source": [
    "pd.DataFrame(MEstandarizada) "
   ]
  },
  {
   "cell_type": "code",
   "execution_count": 12,
   "metadata": {},
   "outputs": [],
   "source": [
    "from sklearn.cluster import KMeans\n",
    "from sklearn.metrics import pairwise_distances_argmin_min #Importamos las métricas para obtener las distancias utilizadas en el algoritmo"
   ]
  },
  {
   "cell_type": "code",
   "execution_count": 13,
   "metadata": {},
   "outputs": [
    {
     "name": "stderr",
     "output_type": "stream",
     "text": [
      "C:\\Users\\Principal\\anaconda3\\lib\\site-packages\\sklearn\\cluster\\_kmeans.py:870: FutureWarning: The default value of `n_init` will change from 10 to 'auto' in 1.4. Set the value of `n_init` explicitly to suppress the warning\n",
      "  warnings.warn(\n",
      "C:\\Users\\Principal\\anaconda3\\lib\\site-packages\\sklearn\\cluster\\_kmeans.py:870: FutureWarning: The default value of `n_init` will change from 10 to 'auto' in 1.4. Set the value of `n_init` explicitly to suppress the warning\n",
      "  warnings.warn(\n",
      "C:\\Users\\Principal\\anaconda3\\lib\\site-packages\\sklearn\\cluster\\_kmeans.py:870: FutureWarning: The default value of `n_init` will change from 10 to 'auto' in 1.4. Set the value of `n_init` explicitly to suppress the warning\n",
      "  warnings.warn(\n",
      "C:\\Users\\Principal\\anaconda3\\lib\\site-packages\\sklearn\\cluster\\_kmeans.py:870: FutureWarning: The default value of `n_init` will change from 10 to 'auto' in 1.4. Set the value of `n_init` explicitly to suppress the warning\n",
      "  warnings.warn(\n",
      "C:\\Users\\Principal\\anaconda3\\lib\\site-packages\\sklearn\\cluster\\_kmeans.py:870: FutureWarning: The default value of `n_init` will change from 10 to 'auto' in 1.4. Set the value of `n_init` explicitly to suppress the warning\n",
      "  warnings.warn(\n",
      "C:\\Users\\Principal\\anaconda3\\lib\\site-packages\\sklearn\\cluster\\_kmeans.py:870: FutureWarning: The default value of `n_init` will change from 10 to 'auto' in 1.4. Set the value of `n_init` explicitly to suppress the warning\n",
      "  warnings.warn(\n",
      "C:\\Users\\Principal\\anaconda3\\lib\\site-packages\\sklearn\\cluster\\_kmeans.py:870: FutureWarning: The default value of `n_init` will change from 10 to 'auto' in 1.4. Set the value of `n_init` explicitly to suppress the warning\n",
      "  warnings.warn(\n",
      "C:\\Users\\Principal\\anaconda3\\lib\\site-packages\\sklearn\\cluster\\_kmeans.py:870: FutureWarning: The default value of `n_init` will change from 10 to 'auto' in 1.4. Set the value of `n_init` explicitly to suppress the warning\n",
      "  warnings.warn(\n",
      "C:\\Users\\Principal\\anaconda3\\lib\\site-packages\\sklearn\\cluster\\_kmeans.py:870: FutureWarning: The default value of `n_init` will change from 10 to 'auto' in 1.4. Set the value of `n_init` explicitly to suppress the warning\n",
      "  warnings.warn(\n",
      "C:\\Users\\Principal\\anaconda3\\lib\\site-packages\\sklearn\\cluster\\_kmeans.py:870: FutureWarning: The default value of `n_init` will change from 10 to 'auto' in 1.4. Set the value of `n_init` explicitly to suppress the warning\n",
      "  warnings.warn(\n"
     ]
    },
    {
     "data": {
      "image/png": "[encoded data removed]",
      "text/plain": [
       "<Figure size 1000x700 with 1 Axes>"
      ]
     },
     "metadata": {},
     "output_type": "display_data"
    }
   ],
   "source": [
    "#Definición de k clusters para K-means\n",
    "#Se utiliza random_state para inicializar el generador interno de números aleatorios\n",
    "SSE = []\n",
    "for i in range(2, 12): #valores que tomará la k del algoritmo, mínimo valor 2, máximo 12\n",
    "    km = KMeans(n_clusters=i, random_state=0) #random_State es un estado inicial que ayuda a que los resultados sean reproducibles, si se deja como 'none',\n",
    "                                              # se obtendrán resultados ligeramente diferentes. El valor debe de ser un entero y estará en función de los      \n",
    "                                              # elementos que tengamos, si tenemos 202 elementos, el valor máximo del random_state podria ser 202! (factorial)      \n",
    "    km.fit(MEstandarizada)                    ### preguntar al profesor ###\n",
    "    SSE.append(km.inertia_)                   ### está enlistando los valores obtenidos con su cierta \"inercia\" ###\n",
    "\n",
    "#Se grafica SSE en función de k\n",
    "plt.figure(figsize=(10, 7))\n",
    "plt.plot(range(2, 12), SSE, marker='o')\n",
    "plt.xlabel('Cantidad de clusters *k*')\n",
    "plt.ylabel('SSE')\n",
    "plt.title('Elbow Method')\n",
    "plt.show()"
   ]
  },
  {
   "cell_type": "code",
   "execution_count": 14,
   "metadata": {},
   "outputs": [
    {
     "name": "stdout",
     "output_type": "stream",
     "text": [
      "Requirement already satisfied: kneed in c:\\users\\principal\\anaconda3\\lib\\site-packages (0.8.3)\n",
      "Requirement already satisfied: scipy>=1.0.0 in c:\\users\\principal\\anaconda3\\lib\\site-packages (from kneed) (1.10.0)\n",
      "Requirement already satisfied: numpy>=1.14.2 in c:\\users\\principal\\anaconda3\\lib\\site-packages (from kneed) (1.23.5)\n"
     ]
    }
   ],
   "source": [
    "!pip install kneed"
   ]
  },
  {
   "cell_type": "code",
   "execution_count": 15,
   "metadata": {},
   "outputs": [
    {
     "data": {
      "text/plain": [
       "6"
      ]
     },
     "execution_count": 15,
     "metadata": {},
     "output_type": "execute_result"
    }
   ],
   "source": [
    "from kneed import KneeLocator\n",
    "kl = KneeLocator(range(2, 12), SSE, curve=\"convex\", direction=\"decreasing\") #Se utiliza cuando es ambigüo.\n",
    "kl.elbow"
   ]
  },
  {
   "cell_type": "markdown",
   "metadata": {},
   "source": [
    "#### Observamos que coinciden con el número de clases que tenemos"
   ]
  },
  {
   "cell_type": "code",
   "execution_count": 16,
   "metadata": {},
   "outputs": [
    {
     "name": "stderr",
     "output_type": "stream",
     "text": [
      "C:\\Users\\Principal\\anaconda3\\lib\\site-packages\\sklearn\\cluster\\_kmeans.py:870: FutureWarning: The default value of `n_init` will change from 10 to 'auto' in 1.4. Set the value of `n_init` explicitly to suppress the warning\n",
      "  warnings.warn(\n"
     ]
    }
   ],
   "source": [
    "#Se crean las etiquetas de los elementos en los clusters\n",
    "MParticional = KMeans(n_clusters=6, random_state=0).fit(MEstandarizada) \n"
   ]
  },
  {
   "cell_type": "code",
   "execution_count": 17,
   "metadata": {},
   "outputs": [
    {
     "name": "stderr",
     "output_type": "stream",
     "text": [
      "C:\\Users\\Principal\\anaconda3\\lib\\site-packages\\sklearn\\cluster\\_kmeans.py:870: FutureWarning: The default value of `n_init` will change from 10 to 'auto' in 1.4. Set the value of `n_init` explicitly to suppress the warning\n",
      "  warnings.warn(\n"
     ]
    },
    {
     "data": {
      "text/html": [
       "<style>#sk-container-id-1 {color: black;background-color: white;}#sk-container-id-1 pre{padding: 0;}#sk-container-id-1 div.sk-toggleable {background-color: white;}#sk-container-id-1 label.sk-toggleable__label {cursor: pointer;display: block;width: 100%;margin-bottom: 0;padding: 0.3em;box-sizing: border-box;text-align: center;}#sk-container-id-1 label.sk-toggleable__label-arrow:before {content: \"▸\";float: left;margin-right: 0.25em;color: #696969;}#sk-container-id-1 label.sk-toggleable__label-arrow:hover:before {color: black;}#sk-container-id-1 div.sk-estimator:hover label.sk-toggleable__label-arrow:before {color: black;}#sk-container-id-1 div.sk-toggleable__content {max-height: 0;max-width: 0;overflow: hidden;text-align: left;background-color: #f0f8ff;}#sk-container-id-1 div.sk-toggleable__content pre {margin: 0.2em;color: black;border-radius: 0.25em;background-color: #f0f8ff;}#sk-container-id-1 input.sk-toggleable__control:checked~div.sk-toggleable__content {max-height: 200px;max-width: 100%;overflow: auto;}#sk-container-id-1 input.sk-toggleable__control:checked~label.sk-toggleable__label-arrow:before {content: \"▾\";}#sk-container-id-1 div.sk-estimator input.sk-toggleable__control:checked~label.sk-toggleable__label {background-color: #d4ebff;}#sk-container-id-1 div.sk-label input.sk-toggleable__control:checked~label.sk-toggleable__label {background-color: #d4ebff;}#sk-container-id-1 input.sk-hidden--visually {border: 0;clip: rect(1px 1px 1px 1px);clip: rect(1px, 1px, 1px, 1px);height: 1px;margin: -1px;overflow: hidden;padding: 0;position: absolute;width: 1px;}#sk-container-id-1 div.sk-estimator {font-family: monospace;background-color: #f0f8ff;border: 1px dotted black;border-radius: 0.25em;box-sizing: border-box;margin-bottom: 0.5em;}#sk-container-id-1 div.sk-estimator:hover {background-color: #d4ebff;}#sk-container-id-1 div.sk-parallel-item::after {content: \"\";width: 100%;border-bottom: 1px solid gray;flex-grow: 1;}#sk-container-id-1 div.sk-label:hover label.sk-toggleable__label {background-color: #d4ebff;}#sk-container-id-1 div.sk-serial::before {content: \"\";position: absolute;border-left: 1px solid gray;box-sizing: border-box;top: 0;bottom: 0;left: 50%;z-index: 0;}#sk-container-id-1 div.sk-serial {display: flex;flex-direction: column;align-items: center;background-color: white;padding-right: 0.2em;padding-left: 0.2em;position: relative;}#sk-container-id-1 div.sk-item {position: relative;z-index: 1;}#sk-container-id-1 div.sk-parallel {display: flex;align-items: stretch;justify-content: center;background-color: white;position: relative;}#sk-container-id-1 div.sk-item::before, #sk-container-id-1 div.sk-parallel-item::before {content: \"\";position: absolute;border-left: 1px solid gray;box-sizing: border-box;top: 0;bottom: 0;left: 50%;z-index: -1;}#sk-container-id-1 div.sk-parallel-item {display: flex;flex-direction: column;z-index: 1;position: relative;background-color: white;}#sk-container-id-1 div.sk-parallel-item:first-child::after {align-self: flex-end;width: 50%;}#sk-container-id-1 div.sk-parallel-item:last-child::after {align-self: flex-start;width: 50%;}#sk-container-id-1 div.sk-parallel-item:only-child::after {width: 0;}#sk-container-id-1 div.sk-dashed-wrapped {border: 1px dashed gray;margin: 0 0.4em 0.5em 0.4em;box-sizing: border-box;padding-bottom: 0.4em;background-color: white;}#sk-container-id-1 div.sk-label label {font-family: monospace;font-weight: bold;display: inline-block;line-height: 1.2em;}#sk-container-id-1 div.sk-label-container {text-align: center;}#sk-container-id-1 div.sk-container {/* jupyter's `normalize.less` sets `[hidden] { display: none; }` but bootstrap.min.css set `[hidden] { display: none !important; }` so we also need the `!important` here to be able to override the default hidden behavior on the sphinx rendered scikit-learn.org. See: https://github.com/scikit-learn/scikit-learn/issues/21755 */display: inline-block !important;position: relative;}#sk-container-id-1 div.sk-text-repr-fallback {display: none;}</style><div id=\"sk-container-id-1\" class=\"sk-top-container\"><div class=\"sk-text-repr-fallback\"><pre>KMeans(n_clusters=6, random_state=0)</pre><b>In a Jupyter environment, please rerun this cell to show the HTML representation or trust the notebook. <br />On GitHub, the HTML representation is unable to render, please try loading this page with nbviewer.org.</b></div><div class=\"sk-container\" hidden><div class=\"sk-item\"><div class=\"sk-estimator sk-toggleable\"><input class=\"sk-toggleable__control sk-hidden--visually\" id=\"sk-estimator-id-1\" type=\"checkbox\" checked><label for=\"sk-estimator-id-1\" class=\"sk-toggleable__label sk-toggleable__label-arrow\">KMeans</label><div class=\"sk-toggleable__content\"><pre>KMeans(n_clusters=6, random_state=0)</pre></div></div></div></div></div>"
      ],
      "text/plain": [
       "KMeans(n_clusters=6, random_state=0)"
      ]
     },
     "execution_count": 17,
     "metadata": {},
     "output_type": "execute_result"
    }
   ],
   "source": [
    "MParticional.fit(MEstandarizada)"
   ]
  },
  {
   "cell_type": "code",
   "execution_count": 18,
   "metadata": {},
   "outputs": [
    {
     "data": {
      "text/plain": [
       "array([3, 2, 3, ..., 2, 2, 1])"
      ]
     },
     "execution_count": 18,
     "metadata": {},
     "output_type": "execute_result"
    }
   ],
   "source": [
    "MParticional.labels_"
   ]
  },
  {
   "cell_type": "code",
   "execution_count": 19,
   "metadata": {},
   "outputs": [
    {
     "data": {
      "text/html": [
       "<div>\n",
       "<style scoped>\n",
       "    .dataframe tbody tr th:only-of-type {\n",
       "        vertical-align: middle;\n",
       "    }\n",
       "\n",
       "    .dataframe tbody tr th {\n",
       "        vertical-align: top;\n",
       "    }\n",
       "\n",
       "    .dataframe thead th {\n",
       "        text-align: right;\n",
       "    }\n",
       "</style>\n",
       "<table border=\"1\" class=\"dataframe\">\n",
       "  <thead>\n",
       "    <tr style=\"text-align: right;\">\n",
       "      <th></th>\n",
       "      <th>fixed.acidity</th>\n",
       "      <th>volatile.acidity</th>\n",
       "      <th>citric.acid</th>\n",
       "      <th>residual.sugar</th>\n",
       "      <th>chlorides</th>\n",
       "      <th>free.sulfur.dioxide</th>\n",
       "      <th>total.sulfur.dioxide</th>\n",
       "      <th>density</th>\n",
       "      <th>pH</th>\n",
       "      <th>sulphates</th>\n",
       "      <th>alcohol</th>\n",
       "      <th>quality</th>\n",
       "      <th>clusterP</th>\n",
       "    </tr>\n",
       "  </thead>\n",
       "  <tbody>\n",
       "    <tr>\n",
       "      <th>1</th>\n",
       "      <td>7.4</td>\n",
       "      <td>0.700</td>\n",
       "      <td>0.00</td>\n",
       "      <td>1.9</td>\n",
       "      <td>0.076</td>\n",
       "      <td>11.0</td>\n",
       "      <td>34.0</td>\n",
       "      <td>0.99780</td>\n",
       "      <td>3.51</td>\n",
       "      <td>0.56</td>\n",
       "      <td>9.4</td>\n",
       "      <td>5</td>\n",
       "      <td>3</td>\n",
       "    </tr>\n",
       "    <tr>\n",
       "      <th>2</th>\n",
       "      <td>7.8</td>\n",
       "      <td>0.880</td>\n",
       "      <td>0.00</td>\n",
       "      <td>2.6</td>\n",
       "      <td>0.098</td>\n",
       "      <td>25.0</td>\n",
       "      <td>67.0</td>\n",
       "      <td>0.99680</td>\n",
       "      <td>3.20</td>\n",
       "      <td>0.68</td>\n",
       "      <td>9.8</td>\n",
       "      <td>5</td>\n",
       "      <td>2</td>\n",
       "    </tr>\n",
       "    <tr>\n",
       "      <th>3</th>\n",
       "      <td>7.8</td>\n",
       "      <td>0.760</td>\n",
       "      <td>0.04</td>\n",
       "      <td>2.3</td>\n",
       "      <td>0.092</td>\n",
       "      <td>15.0</td>\n",
       "      <td>54.0</td>\n",
       "      <td>0.99700</td>\n",
       "      <td>3.26</td>\n",
       "      <td>0.65</td>\n",
       "      <td>9.8</td>\n",
       "      <td>5</td>\n",
       "      <td>3</td>\n",
       "    </tr>\n",
       "    <tr>\n",
       "      <th>4</th>\n",
       "      <td>11.2</td>\n",
       "      <td>0.280</td>\n",
       "      <td>0.56</td>\n",
       "      <td>1.9</td>\n",
       "      <td>0.075</td>\n",
       "      <td>17.0</td>\n",
       "      <td>60.0</td>\n",
       "      <td>0.99800</td>\n",
       "      <td>3.16</td>\n",
       "      <td>0.58</td>\n",
       "      <td>9.8</td>\n",
       "      <td>6</td>\n",
       "      <td>5</td>\n",
       "    </tr>\n",
       "    <tr>\n",
       "      <th>5</th>\n",
       "      <td>7.4</td>\n",
       "      <td>0.700</td>\n",
       "      <td>0.00</td>\n",
       "      <td>1.9</td>\n",
       "      <td>0.076</td>\n",
       "      <td>11.0</td>\n",
       "      <td>34.0</td>\n",
       "      <td>0.99780</td>\n",
       "      <td>3.51</td>\n",
       "      <td>0.56</td>\n",
       "      <td>9.4</td>\n",
       "      <td>5</td>\n",
       "      <td>3</td>\n",
       "    </tr>\n",
       "    <tr>\n",
       "      <th>...</th>\n",
       "      <td>...</td>\n",
       "      <td>...</td>\n",
       "      <td>...</td>\n",
       "      <td>...</td>\n",
       "      <td>...</td>\n",
       "      <td>...</td>\n",
       "      <td>...</td>\n",
       "      <td>...</td>\n",
       "      <td>...</td>\n",
       "      <td>...</td>\n",
       "      <td>...</td>\n",
       "      <td>...</td>\n",
       "      <td>...</td>\n",
       "    </tr>\n",
       "    <tr>\n",
       "      <th>1595</th>\n",
       "      <td>6.2</td>\n",
       "      <td>0.600</td>\n",
       "      <td>0.08</td>\n",
       "      <td>2.0</td>\n",
       "      <td>0.090</td>\n",
       "      <td>32.0</td>\n",
       "      <td>44.0</td>\n",
       "      <td>0.99490</td>\n",
       "      <td>3.45</td>\n",
       "      <td>0.58</td>\n",
       "      <td>10.5</td>\n",
       "      <td>5</td>\n",
       "      <td>2</td>\n",
       "    </tr>\n",
       "    <tr>\n",
       "      <th>1596</th>\n",
       "      <td>5.9</td>\n",
       "      <td>0.550</td>\n",
       "      <td>0.10</td>\n",
       "      <td>2.2</td>\n",
       "      <td>0.062</td>\n",
       "      <td>39.0</td>\n",
       "      <td>51.0</td>\n",
       "      <td>0.99512</td>\n",
       "      <td>3.52</td>\n",
       "      <td>0.76</td>\n",
       "      <td>11.2</td>\n",
       "      <td>6</td>\n",
       "      <td>2</td>\n",
       "    </tr>\n",
       "    <tr>\n",
       "      <th>1597</th>\n",
       "      <td>6.3</td>\n",
       "      <td>0.510</td>\n",
       "      <td>0.13</td>\n",
       "      <td>2.3</td>\n",
       "      <td>0.076</td>\n",
       "      <td>29.0</td>\n",
       "      <td>40.0</td>\n",
       "      <td>0.99574</td>\n",
       "      <td>3.42</td>\n",
       "      <td>0.75</td>\n",
       "      <td>11.0</td>\n",
       "      <td>6</td>\n",
       "      <td>2</td>\n",
       "    </tr>\n",
       "    <tr>\n",
       "      <th>1598</th>\n",
       "      <td>5.9</td>\n",
       "      <td>0.645</td>\n",
       "      <td>0.12</td>\n",
       "      <td>2.0</td>\n",
       "      <td>0.075</td>\n",
       "      <td>32.0</td>\n",
       "      <td>44.0</td>\n",
       "      <td>0.99547</td>\n",
       "      <td>3.57</td>\n",
       "      <td>0.71</td>\n",
       "      <td>10.2</td>\n",
       "      <td>5</td>\n",
       "      <td>2</td>\n",
       "    </tr>\n",
       "    <tr>\n",
       "      <th>1599</th>\n",
       "      <td>6.0</td>\n",
       "      <td>0.310</td>\n",
       "      <td>0.47</td>\n",
       "      <td>3.6</td>\n",
       "      <td>0.067</td>\n",
       "      <td>18.0</td>\n",
       "      <td>42.0</td>\n",
       "      <td>0.99549</td>\n",
       "      <td>3.39</td>\n",
       "      <td>0.66</td>\n",
       "      <td>11.0</td>\n",
       "      <td>6</td>\n",
       "      <td>1</td>\n",
       "    </tr>\n",
       "  </tbody>\n",
       "</table>\n",
       "<p>1599 rows × 13 columns</p>\n",
       "</div>"
      ],
      "text/plain": [
       "      fixed.acidity  volatile.acidity  citric.acid  residual.sugar  chlorides  \\\n",
       "1               7.4             0.700         0.00             1.9      0.076   \n",
       "2               7.8             0.880         0.00             2.6      0.098   \n",
       "3               7.8             0.760         0.04             2.3      0.092   \n",
       "4              11.2             0.280         0.56             1.9      0.075   \n",
       "5               7.4             0.700         0.00             1.9      0.076   \n",
       "...             ...               ...          ...             ...        ...   \n",
       "1595            6.2             0.600         0.08             2.0      0.090   \n",
       "1596            5.9             0.550         0.10             2.2      0.062   \n",
       "1597            6.3             0.510         0.13             2.3      0.076   \n",
       "1598            5.9             0.645         0.12             2.0      0.075   \n",
       "1599            6.0             0.310         0.47             3.6      0.067   \n",
       "\n",
       "      free.sulfur.dioxide  total.sulfur.dioxide  density    pH  sulphates  \\\n",
       "1                    11.0                  34.0  0.99780  3.51       0.56   \n",
       "2                    25.0                  67.0  0.99680  3.20       0.68   \n",
       "3                    15.0                  54.0  0.99700  3.26       0.65   \n",
       "4                    17.0                  60.0  0.99800  3.16       0.58   \n",
       "5                    11.0                  34.0  0.99780  3.51       0.56   \n",
       "...                   ...                   ...      ...   ...        ...   \n",
       "1595                 32.0                  44.0  0.99490  3.45       0.58   \n",
       "1596                 39.0                  51.0  0.99512  3.52       0.76   \n",
       "1597                 29.0                  40.0  0.99574  3.42       0.75   \n",
       "1598                 32.0                  44.0  0.99547  3.57       0.71   \n",
       "1599                 18.0                  42.0  0.99549  3.39       0.66   \n",
       "\n",
       "      alcohol  quality  clusterP  \n",
       "1         9.4        5         3  \n",
       "2         9.8        5         2  \n",
       "3         9.8        5         3  \n",
       "4         9.8        6         5  \n",
       "5         9.4        5         3  \n",
       "...       ...      ...       ...  \n",
       "1595     10.5        5         2  \n",
       "1596     11.2        6         2  \n",
       "1597     11.0        6         2  \n",
       "1598     10.2        5         2  \n",
       "1599     11.0        6         1  \n",
       "\n",
       "[1599 rows x 13 columns]"
      ]
     },
     "execution_count": 19,
     "metadata": {},
     "output_type": "execute_result"
    }
   ],
   "source": [
    "Vinos['clusterP'] = MParticional.labels_\n",
    "Vinos"
   ]
  },
  {
   "cell_type": "code",
   "execution_count": 20,
   "metadata": {},
   "outputs": [
    {
     "name": "stdout",
     "output_type": "stream",
     "text": [
      "quality\n",
      "3     10\n",
      "4     53\n",
      "5    681\n",
      "6    638\n",
      "7    199\n",
      "8     18\n",
      "dtype: int64\n"
     ]
    }
   ],
   "source": [
    "print(Vinos.groupby('quality').size())"
   ]
  },
  {
   "cell_type": "code",
   "execution_count": 21,
   "metadata": {},
   "outputs": [
    {
     "name": "stderr",
     "output_type": "stream",
     "text": [
      "C:\\Users\\Principal\\AppData\\Local\\Temp\\ipykernel_2416\\1625514417.py:1: FutureWarning: Indexing with multiple keys (implicitly converted to a tuple of keys) will be deprecated, use a list instead.\n",
      "  CentroidesQ = Vinos.groupby(['quality'])['fixed.acidity',\n"
     ]
    },
    {
     "data": {
      "text/html": [
       "<div>\n",
       "<style scoped>\n",
       "    .dataframe tbody tr th:only-of-type {\n",
       "        vertical-align: middle;\n",
       "    }\n",
       "\n",
       "    .dataframe tbody tr th {\n",
       "        vertical-align: top;\n",
       "    }\n",
       "\n",
       "    .dataframe thead th {\n",
       "        text-align: right;\n",
       "    }\n",
       "</style>\n",
       "<table border=\"1\" class=\"dataframe\">\n",
       "  <thead>\n",
       "    <tr style=\"text-align: right;\">\n",
       "      <th></th>\n",
       "      <th>fixed.acidity</th>\n",
       "      <th>residual.sugar</th>\n",
       "      <th>chlorides</th>\n",
       "      <th>free.sulfur.dioxide</th>\n",
       "      <th>sulphates</th>\n",
       "      <th>alcohol</th>\n",
       "    </tr>\n",
       "    <tr>\n",
       "      <th>quality</th>\n",
       "      <th></th>\n",
       "      <th></th>\n",
       "      <th></th>\n",
       "      <th></th>\n",
       "      <th></th>\n",
       "      <th></th>\n",
       "    </tr>\n",
       "  </thead>\n",
       "  <tbody>\n",
       "    <tr>\n",
       "      <th>3</th>\n",
       "      <td>8.360000</td>\n",
       "      <td>2.635000</td>\n",
       "      <td>0.122500</td>\n",
       "      <td>11.000000</td>\n",
       "      <td>0.570000</td>\n",
       "      <td>9.955000</td>\n",
       "    </tr>\n",
       "    <tr>\n",
       "      <th>4</th>\n",
       "      <td>7.779245</td>\n",
       "      <td>2.694340</td>\n",
       "      <td>0.090679</td>\n",
       "      <td>12.264151</td>\n",
       "      <td>0.596415</td>\n",
       "      <td>10.265094</td>\n",
       "    </tr>\n",
       "    <tr>\n",
       "      <th>5</th>\n",
       "      <td>8.167254</td>\n",
       "      <td>2.528855</td>\n",
       "      <td>0.092736</td>\n",
       "      <td>16.983847</td>\n",
       "      <td>0.620969</td>\n",
       "      <td>9.899706</td>\n",
       "    </tr>\n",
       "    <tr>\n",
       "      <th>6</th>\n",
       "      <td>8.347179</td>\n",
       "      <td>2.477194</td>\n",
       "      <td>0.084956</td>\n",
       "      <td>15.711599</td>\n",
       "      <td>0.675329</td>\n",
       "      <td>10.629519</td>\n",
       "    </tr>\n",
       "    <tr>\n",
       "      <th>7</th>\n",
       "      <td>8.872362</td>\n",
       "      <td>2.720603</td>\n",
       "      <td>0.076588</td>\n",
       "      <td>14.045226</td>\n",
       "      <td>0.741256</td>\n",
       "      <td>11.465913</td>\n",
       "    </tr>\n",
       "    <tr>\n",
       "      <th>8</th>\n",
       "      <td>8.566667</td>\n",
       "      <td>2.577778</td>\n",
       "      <td>0.068444</td>\n",
       "      <td>13.277778</td>\n",
       "      <td>0.767778</td>\n",
       "      <td>12.094444</td>\n",
       "    </tr>\n",
       "  </tbody>\n",
       "</table>\n",
       "</div>"
      ],
      "text/plain": [
       "         fixed.acidity  residual.sugar  chlorides  free.sulfur.dioxide  \\\n",
       "quality                                                                  \n",
       "3             8.360000        2.635000   0.122500            11.000000   \n",
       "4             7.779245        2.694340   0.090679            12.264151   \n",
       "5             8.167254        2.528855   0.092736            16.983847   \n",
       "6             8.347179        2.477194   0.084956            15.711599   \n",
       "7             8.872362        2.720603   0.076588            14.045226   \n",
       "8             8.566667        2.577778   0.068444            13.277778   \n",
       "\n",
       "         sulphates    alcohol  \n",
       "quality                        \n",
       "3         0.570000   9.955000  \n",
       "4         0.596415  10.265094  \n",
       "5         0.620969   9.899706  \n",
       "6         0.675329  10.629519  \n",
       "7         0.741256  11.465913  \n",
       "8         0.767778  12.094444  "
      ]
     },
     "execution_count": 21,
     "metadata": {},
     "output_type": "execute_result"
    }
   ],
   "source": [
    "CentroidesQ = Vinos.groupby(['quality'])['fixed.acidity',\n",
    "                    'residual.sugar',\n",
    "                    'chlorides',\n",
    "                    'free.sulfur.dioxide',                    \n",
    "                    'sulphates',\n",
    "                    'alcohol'].mean()\n",
    "CentroidesQ"
   ]
  },
  {
   "cell_type": "code",
   "execution_count": 22,
   "metadata": {},
   "outputs": [
    {
     "name": "stdout",
     "output_type": "stream",
     "text": [
      "clusterP\n",
      "0     27\n",
      "1    330\n",
      "2    298\n",
      "3    609\n",
      "4     70\n",
      "5    265\n",
      "dtype: int64\n"
     ]
    }
   ],
   "source": [
    "print(Vinos.groupby('clusterP').size())"
   ]
  },
  {
   "cell_type": "code",
   "execution_count": 23,
   "metadata": {},
   "outputs": [
    {
     "name": "stderr",
     "output_type": "stream",
     "text": [
      "C:\\Users\\Principal\\AppData\\Local\\Temp\\ipykernel_2416\\2073122051.py:1: FutureWarning: Indexing with multiple keys (implicitly converted to a tuple of keys) will be deprecated, use a list instead.\n",
      "  CentroidesP = Vinos.groupby(['clusterP'])['fixed.acidity',\n"
     ]
    },
    {
     "data": {
      "text/html": [
       "<div>\n",
       "<style scoped>\n",
       "    .dataframe tbody tr th:only-of-type {\n",
       "        vertical-align: middle;\n",
       "    }\n",
       "\n",
       "    .dataframe tbody tr th {\n",
       "        vertical-align: top;\n",
       "    }\n",
       "\n",
       "    .dataframe thead th {\n",
       "        text-align: right;\n",
       "    }\n",
       "</style>\n",
       "<table border=\"1\" class=\"dataframe\">\n",
       "  <thead>\n",
       "    <tr style=\"text-align: right;\">\n",
       "      <th></th>\n",
       "      <th>fixed.acidity</th>\n",
       "      <th>residual.sugar</th>\n",
       "      <th>chlorides</th>\n",
       "      <th>free.sulfur.dioxide</th>\n",
       "      <th>sulphates</th>\n",
       "      <th>alcohol</th>\n",
       "    </tr>\n",
       "    <tr>\n",
       "      <th>clusterP</th>\n",
       "      <th></th>\n",
       "      <th></th>\n",
       "      <th></th>\n",
       "      <th></th>\n",
       "      <th></th>\n",
       "      <th></th>\n",
       "    </tr>\n",
       "  </thead>\n",
       "  <tbody>\n",
       "    <tr>\n",
       "      <th>0</th>\n",
       "      <td>8.459259</td>\n",
       "      <td>1.981481</td>\n",
       "      <td>0.367481</td>\n",
       "      <td>15.555556</td>\n",
       "      <td>1.275926</td>\n",
       "      <td>9.470370</td>\n",
       "    </tr>\n",
       "    <tr>\n",
       "      <th>1</th>\n",
       "      <td>7.331515</td>\n",
       "      <td>2.300000</td>\n",
       "      <td>0.071694</td>\n",
       "      <td>13.003030</td>\n",
       "      <td>0.663091</td>\n",
       "      <td>11.836111</td>\n",
       "    </tr>\n",
       "    <tr>\n",
       "      <th>2</th>\n",
       "      <td>7.958725</td>\n",
       "      <td>2.334732</td>\n",
       "      <td>0.081839</td>\n",
       "      <td>30.857383</td>\n",
       "      <td>0.656174</td>\n",
       "      <td>10.129418</td>\n",
       "    </tr>\n",
       "    <tr>\n",
       "      <th>3</th>\n",
       "      <td>7.813300</td>\n",
       "      <td>2.153695</td>\n",
       "      <td>0.085488</td>\n",
       "      <td>11.465517</td>\n",
       "      <td>0.588834</td>\n",
       "      <td>9.758511</td>\n",
       "    </tr>\n",
       "    <tr>\n",
       "      <th>4</th>\n",
       "      <td>7.982857</td>\n",
       "      <td>7.668571</td>\n",
       "      <td>0.091729</td>\n",
       "      <td>23.728571</td>\n",
       "      <td>0.655429</td>\n",
       "      <td>10.425238</td>\n",
       "    </tr>\n",
       "    <tr>\n",
       "      <th>5</th>\n",
       "      <td>11.194340</td>\n",
       "      <td>2.652453</td>\n",
       "      <td>0.088328</td>\n",
       "      <td>10.694340</td>\n",
       "      <td>0.751283</td>\n",
       "      <td>10.616855</td>\n",
       "    </tr>\n",
       "  </tbody>\n",
       "</table>\n",
       "</div>"
      ],
      "text/plain": [
       "          fixed.acidity  residual.sugar  chlorides  free.sulfur.dioxide  \\\n",
       "clusterP                                                                  \n",
       "0              8.459259        1.981481   0.367481            15.555556   \n",
       "1              7.331515        2.300000   0.071694            13.003030   \n",
       "2              7.958725        2.334732   0.081839            30.857383   \n",
       "3              7.813300        2.153695   0.085488            11.465517   \n",
       "4              7.982857        7.668571   0.091729            23.728571   \n",
       "5             11.194340        2.652453   0.088328            10.694340   \n",
       "\n",
       "          sulphates    alcohol  \n",
       "clusterP                        \n",
       "0          1.275926   9.470370  \n",
       "1          0.663091  11.836111  \n",
       "2          0.656174  10.129418  \n",
       "3          0.588834   9.758511  \n",
       "4          0.655429  10.425238  \n",
       "5          0.751283  10.616855  "
      ]
     },
     "execution_count": 23,
     "metadata": {},
     "output_type": "execute_result"
    }
   ],
   "source": [
    "CentroidesP = Vinos.groupby(['clusterP'])['fixed.acidity',\n",
    "                    'residual.sugar',\n",
    "                    'chlorides',\n",
    "                    'free.sulfur.dioxide',                    \n",
    "                    'sulphates',\n",
    "                    'alcohol'].mean()\n",
    "CentroidesP"
   ]
  },
  {
   "cell_type": "markdown",
   "metadata": {},
   "source": [
    "* **Clúster 0:** Es un grupo formado por 27 elementos con una acidez fija (ácido tartárico) del 8.459 (g/dm^3), azucar residual de 1.981 (g/dm^3), cloruros (cloruro de sodio) de 0.367 (g/dm^3), dióxido de azufre libre de 15.555 (g/dm^3), sulfatos (sulfato de potasio) de 1.275 (g/dm^3) y un volumen de alcohol del 9.47%.\n",
    "* **Clúster 1:** Es un grupo formado por 330 elementos con una acidez fija (ácido tartárico) del 7.331 (g/dm^3), azucar residual de 2.3 (g/dm^3), cloruros (cloruro de sodio) de 0.0716 (g/dm^3), dióxido de azufre libre de 13.003 (g/dm^3), sulfatos (sulfato de potasio) de 0.663 (g/dm^3) y un volumen de alcohol del 11.83%\n",
    "* **Clúster 2:** Es un grupo formado por 298 elementos con una acidez fija (ácido tartárico) del 7.958 (g/dm^3), azucar residual de 2.334 (g/dm^3), cloruros (cloruro de sodio) de 0.0818 (g/dm^3), dióxido de azufre libre de 30.857 (g/dm^3), sulfatos (sulfato de potasio) de 0.656 (g/dm^3) y un volumen de alcohol del 10.12%\n",
    "* **Clúster 3:** Es un grupo formado por 609 elementos con una acidez fija (ácido tartárico) del 7.813 (g/dm^3), azucar residual de 2.153 (g/dm^3), cloruros (cloruro de sodio) de 0.0854 (g/dm^3), dióxido de azufre libre de 11.465 (g/dm^3), sulfatos (sulfato de potasio) de 0.588 (g/dm^3) y un volumen de alcohol del 9.75%\n",
    "* **Clúster 4:** Es un grupo formado por 70 elementos con una acidez fija (ácido tartárico) del 7.982 (g/dm^3), azucar residual de 7.668 (g/dm^3), cloruros (cloruro de sodio) de 0.091 (g/dm^3), dióxido de azufre libre de 23.728 (g/dm^3), sulfatos (sulfato de potasio) de 0.655 (g/dm^3) y un volumen de alcohol del 10.42%\n",
    "* **Clúster 5:** Es un grupo formado por 265 elementos con una acidez fija (ácido tartárico) del 11.194 (g/dm^3), azucar residual de 2.652 (g/dm^3), cloruros (cloruro de sodio) de 0.088 (g/dm^3), dióxido de azufre libre de 10.694 (g/dm^3), sulfatos (sulfato de potasio) de 0.751 (g/dm^3) y un volumen de alcohol del 10.61%"
   ]
  },
  {
   "cell_type": "markdown",
   "metadata": {},
   "source": [
    "# III Modelos - AD&BA"
   ]
  },
  {
   "cell_type": "markdown",
   "metadata": {
    "id": "sAV7ARgs6Dp0"
   },
   "source": [
    "#### **3) Definición de las variables predictoras y variable clase**\n"
   ]
  },
  {
   "cell_type": "code",
   "execution_count": 24,
   "metadata": {
    "colab": {
     "base_uri": "https://localhost:8080/",
     "height": 424
    },
    "executionInfo": {
     "elapsed": 958,
     "status": "ok",
     "timestamp": 1668466393758,
     "user": {
      "displayName": "Guillermo Molero-Castillo",
      "userId": "05385957137518665248"
     },
     "user_tz": 360
    },
    "id": "7JUbw33r5JNG",
    "outputId": "4bd5d909-31a9-4a56-e51b-7f48fc4c9849"
   },
   "outputs": [
    {
     "data": {
      "text/html": [
       "<div>\n",
       "<style scoped>\n",
       "    .dataframe tbody tr th:only-of-type {\n",
       "        vertical-align: middle;\n",
       "    }\n",
       "\n",
       "    .dataframe tbody tr th {\n",
       "        vertical-align: top;\n",
       "    }\n",
       "\n",
       "    .dataframe thead th {\n",
       "        text-align: right;\n",
       "    }\n",
       "</style>\n",
       "<table border=\"1\" class=\"dataframe\">\n",
       "  <thead>\n",
       "    <tr style=\"text-align: right;\">\n",
       "      <th></th>\n",
       "      <th>0</th>\n",
       "      <th>1</th>\n",
       "      <th>2</th>\n",
       "      <th>3</th>\n",
       "      <th>4</th>\n",
       "      <th>5</th>\n",
       "    </tr>\n",
       "  </thead>\n",
       "  <tbody>\n",
       "    <tr>\n",
       "      <th>0</th>\n",
       "      <td>7.4</td>\n",
       "      <td>1.9</td>\n",
       "      <td>0.076</td>\n",
       "      <td>11.0</td>\n",
       "      <td>0.56</td>\n",
       "      <td>9.4</td>\n",
       "    </tr>\n",
       "    <tr>\n",
       "      <th>1</th>\n",
       "      <td>7.8</td>\n",
       "      <td>2.6</td>\n",
       "      <td>0.098</td>\n",
       "      <td>25.0</td>\n",
       "      <td>0.68</td>\n",
       "      <td>9.8</td>\n",
       "    </tr>\n",
       "    <tr>\n",
       "      <th>2</th>\n",
       "      <td>7.8</td>\n",
       "      <td>2.3</td>\n",
       "      <td>0.092</td>\n",
       "      <td>15.0</td>\n",
       "      <td>0.65</td>\n",
       "      <td>9.8</td>\n",
       "    </tr>\n",
       "    <tr>\n",
       "      <th>3</th>\n",
       "      <td>11.2</td>\n",
       "      <td>1.9</td>\n",
       "      <td>0.075</td>\n",
       "      <td>17.0</td>\n",
       "      <td>0.58</td>\n",
       "      <td>9.8</td>\n",
       "    </tr>\n",
       "    <tr>\n",
       "      <th>4</th>\n",
       "      <td>7.4</td>\n",
       "      <td>1.9</td>\n",
       "      <td>0.076</td>\n",
       "      <td>11.0</td>\n",
       "      <td>0.56</td>\n",
       "      <td>9.4</td>\n",
       "    </tr>\n",
       "    <tr>\n",
       "      <th>...</th>\n",
       "      <td>...</td>\n",
       "      <td>...</td>\n",
       "      <td>...</td>\n",
       "      <td>...</td>\n",
       "      <td>...</td>\n",
       "      <td>...</td>\n",
       "    </tr>\n",
       "    <tr>\n",
       "      <th>1594</th>\n",
       "      <td>6.2</td>\n",
       "      <td>2.0</td>\n",
       "      <td>0.090</td>\n",
       "      <td>32.0</td>\n",
       "      <td>0.58</td>\n",
       "      <td>10.5</td>\n",
       "    </tr>\n",
       "    <tr>\n",
       "      <th>1595</th>\n",
       "      <td>5.9</td>\n",
       "      <td>2.2</td>\n",
       "      <td>0.062</td>\n",
       "      <td>39.0</td>\n",
       "      <td>0.76</td>\n",
       "      <td>11.2</td>\n",
       "    </tr>\n",
       "    <tr>\n",
       "      <th>1596</th>\n",
       "      <td>6.3</td>\n",
       "      <td>2.3</td>\n",
       "      <td>0.076</td>\n",
       "      <td>29.0</td>\n",
       "      <td>0.75</td>\n",
       "      <td>11.0</td>\n",
       "    </tr>\n",
       "    <tr>\n",
       "      <th>1597</th>\n",
       "      <td>5.9</td>\n",
       "      <td>2.0</td>\n",
       "      <td>0.075</td>\n",
       "      <td>32.0</td>\n",
       "      <td>0.71</td>\n",
       "      <td>10.2</td>\n",
       "    </tr>\n",
       "    <tr>\n",
       "      <th>1598</th>\n",
       "      <td>6.0</td>\n",
       "      <td>3.6</td>\n",
       "      <td>0.067</td>\n",
       "      <td>18.0</td>\n",
       "      <td>0.66</td>\n",
       "      <td>11.0</td>\n",
       "    </tr>\n",
       "  </tbody>\n",
       "</table>\n",
       "<p>1599 rows × 6 columns</p>\n",
       "</div>"
      ],
      "text/plain": [
       "         0    1      2     3     4     5\n",
       "0      7.4  1.9  0.076  11.0  0.56   9.4\n",
       "1      7.8  2.6  0.098  25.0  0.68   9.8\n",
       "2      7.8  2.3  0.092  15.0  0.65   9.8\n",
       "3     11.2  1.9  0.075  17.0  0.58   9.8\n",
       "4      7.4  1.9  0.076  11.0  0.56   9.4\n",
       "...    ...  ...    ...   ...   ...   ...\n",
       "1594   6.2  2.0  0.090  32.0  0.58  10.5\n",
       "1595   5.9  2.2  0.062  39.0  0.76  11.2\n",
       "1596   6.3  2.3  0.076  29.0  0.75  11.0\n",
       "1597   5.9  2.0  0.075  32.0  0.71  10.2\n",
       "1598   6.0  3.6  0.067  18.0  0.66  11.0\n",
       "\n",
       "[1599 rows x 6 columns]"
      ]
     },
     "execution_count": 24,
     "metadata": {},
     "output_type": "execute_result"
    }
   ],
   "source": [
    "#Variables predictoras\n",
    "X = np.array(Vinos[['fixed.acidity',\n",
    "                    'residual.sugar',\n",
    "                    'chlorides',\n",
    "                    'free.sulfur.dioxide',                    \n",
    "                    'sulphates',\n",
    "                    'alcohol']])\n",
    "pd.DataFrame(X)"
   ]
  },
  {
   "cell_type": "code",
   "execution_count": 25,
   "metadata": {
    "colab": {
     "base_uri": "https://localhost:8080/",
     "height": 424
    },
    "executionInfo": {
     "elapsed": 414,
     "status": "ok",
     "timestamp": 1668466399333,
     "user": {
      "displayName": "Guillermo Molero-Castillo",
      "userId": "05385957137518665248"
     },
     "user_tz": 360
    },
    "id": "T7ztsjut7RxR",
    "outputId": "03f41473-cc46-46d7-e764-5bca9d88edc2"
   },
   "outputs": [
    {
     "data": {
      "text/html": [
       "<div>\n",
       "<style scoped>\n",
       "    .dataframe tbody tr th:only-of-type {\n",
       "        vertical-align: middle;\n",
       "    }\n",
       "\n",
       "    .dataframe tbody tr th {\n",
       "        vertical-align: top;\n",
       "    }\n",
       "\n",
       "    .dataframe thead th {\n",
       "        text-align: right;\n",
       "    }\n",
       "</style>\n",
       "<table border=\"1\" class=\"dataframe\">\n",
       "  <thead>\n",
       "    <tr style=\"text-align: right;\">\n",
       "      <th></th>\n",
       "      <th>0</th>\n",
       "    </tr>\n",
       "  </thead>\n",
       "  <tbody>\n",
       "    <tr>\n",
       "      <th>0</th>\n",
       "      <td>3</td>\n",
       "    </tr>\n",
       "    <tr>\n",
       "      <th>1</th>\n",
       "      <td>2</td>\n",
       "    </tr>\n",
       "    <tr>\n",
       "      <th>2</th>\n",
       "      <td>3</td>\n",
       "    </tr>\n",
       "    <tr>\n",
       "      <th>3</th>\n",
       "      <td>5</td>\n",
       "    </tr>\n",
       "    <tr>\n",
       "      <th>4</th>\n",
       "      <td>3</td>\n",
       "    </tr>\n",
       "    <tr>\n",
       "      <th>...</th>\n",
       "      <td>...</td>\n",
       "    </tr>\n",
       "    <tr>\n",
       "      <th>1594</th>\n",
       "      <td>2</td>\n",
       "    </tr>\n",
       "    <tr>\n",
       "      <th>1595</th>\n",
       "      <td>2</td>\n",
       "    </tr>\n",
       "    <tr>\n",
       "      <th>1596</th>\n",
       "      <td>2</td>\n",
       "    </tr>\n",
       "    <tr>\n",
       "      <th>1597</th>\n",
       "      <td>2</td>\n",
       "    </tr>\n",
       "    <tr>\n",
       "      <th>1598</th>\n",
       "      <td>1</td>\n",
       "    </tr>\n",
       "  </tbody>\n",
       "</table>\n",
       "<p>1599 rows × 1 columns</p>\n",
       "</div>"
      ],
      "text/plain": [
       "      0\n",
       "0     3\n",
       "1     2\n",
       "2     3\n",
       "3     5\n",
       "4     3\n",
       "...  ..\n",
       "1594  2\n",
       "1595  2\n",
       "1596  2\n",
       "1597  2\n",
       "1598  1\n",
       "\n",
       "[1599 rows x 1 columns]"
      ]
     },
     "execution_count": 25,
     "metadata": {},
     "output_type": "execute_result"
    }
   ],
   "source": [
    "#Variable clase\n",
    "Y = np.array(Vinos[['clusterP']])\n",
    "pd.DataFrame(Y)"
   ]
  },
  {
   "cell_type": "markdown",
   "metadata": {
    "id": "p-M0p8vGYd3E"
   },
   "source": [
    "### **II. Creación de los modelos**"
   ]
  },
  {
   "cell_type": "code",
   "execution_count": 26,
   "metadata": {
    "executionInfo": {
     "elapsed": 281,
     "status": "ok",
     "timestamp": 1668466452206,
     "user": {
      "displayName": "Guillermo Molero-Castillo",
      "userId": "05385957137518665248"
     },
     "user_tz": 360
    },
    "id": "OpYSRLV67ONB"
   },
   "outputs": [],
   "source": [
    "from sklearn import model_selection\n",
    "from sklearn.metrics import classification_report\n",
    "from sklearn.metrics import confusion_matrix\n",
    "from sklearn.metrics import accuracy_score"
   ]
  },
  {
   "cell_type": "code",
   "execution_count": 27,
   "metadata": {
    "executionInfo": {
     "elapsed": 2,
     "status": "ok",
     "timestamp": 1668466873700,
     "user": {
      "displayName": "Guillermo Molero-Castillo",
      "userId": "05385957137518665248"
     },
     "user_tz": 360
    },
    "id": "Obnm4rH90s32"
   },
   "outputs": [],
   "source": [
    "X_train, X_validation, Y_train, Y_validation = model_selection.train_test_split(X, Y, \n",
    "                                                                                test_size = 0.2, \n",
    "                                                                                random_state = 0,\n",
    "                                                                                shuffle = True)"
   ]
  },
  {
   "cell_type": "code",
   "execution_count": 28,
   "metadata": {
    "colab": {
     "base_uri": "https://localhost:8080/"
    },
    "executionInfo": {
     "elapsed": 2,
     "status": "ok",
     "timestamp": 1668466874859,
     "user": {
      "displayName": "Guillermo Molero-Castillo",
      "userId": "05385957137518665248"
     },
     "user_tz": 360
    },
    "id": "gIooKG8Y2dtL",
    "outputId": "f8f6fac1-a6a0-4f7f-832c-b56403b61fa3"
   },
   "outputs": [
    {
     "name": "stdout",
     "output_type": "stream",
     "text": [
      "1279\n",
      "320\n"
     ]
    }
   ],
   "source": [
    "print(len(X_train))\n",
    "print(len(X_validation))"
   ]
  },
  {
   "cell_type": "markdown",
   "metadata": {},
   "source": [
    "### **Modelo 1: Árboles de decisión (AD)**"
   ]
  },
  {
   "cell_type": "code",
   "execution_count": 29,
   "metadata": {},
   "outputs": [],
   "source": [
    "from sklearn.tree import DecisionTreeClassifier"
   ]
  },
  {
   "cell_type": "code",
   "execution_count": 30,
   "metadata": {
    "colab": {
     "base_uri": "https://localhost:8080/"
    },
    "executionInfo": {
     "elapsed": 3,
     "status": "ok",
     "timestamp": 1668466878032,
     "user": {
      "displayName": "Guillermo Molero-Castillo",
      "userId": "05385957137518665248"
     },
     "user_tz": 360
    },
    "id": "pDUDkeYMZrSi",
    "outputId": "adeb723d-8ee5-4e00-d777-e168aafd6ffd"
   },
   "outputs": [
    {
     "data": {
      "text/html": [
       "<style>#sk-container-id-2 {color: black;background-color: white;}#sk-container-id-2 pre{padding: 0;}#sk-container-id-2 div.sk-toggleable {background-color: white;}#sk-container-id-2 label.sk-toggleable__label {cursor: pointer;display: block;width: 100%;margin-bottom: 0;padding: 0.3em;box-sizing: border-box;text-align: center;}#sk-container-id-2 label.sk-toggleable__label-arrow:before {content: \"▸\";float: left;margin-right: 0.25em;color: #696969;}#sk-container-id-2 label.sk-toggleable__label-arrow:hover:before {color: black;}#sk-container-id-2 div.sk-estimator:hover label.sk-toggleable__label-arrow:before {color: black;}#sk-container-id-2 div.sk-toggleable__content {max-height: 0;max-width: 0;overflow: hidden;text-align: left;background-color: #f0f8ff;}#sk-container-id-2 div.sk-toggleable__content pre {margin: 0.2em;color: black;border-radius: 0.25em;background-color: #f0f8ff;}#sk-container-id-2 input.sk-toggleable__control:checked~div.sk-toggleable__content {max-height: 200px;max-width: 100%;overflow: auto;}#sk-container-id-2 input.sk-toggleable__control:checked~label.sk-toggleable__label-arrow:before {content: \"▾\";}#sk-container-id-2 div.sk-estimator input.sk-toggleable__control:checked~label.sk-toggleable__label {background-color: #d4ebff;}#sk-container-id-2 div.sk-label input.sk-toggleable__control:checked~label.sk-toggleable__label {background-color: #d4ebff;}#sk-container-id-2 input.sk-hidden--visually {border: 0;clip: rect(1px 1px 1px 1px);clip: rect(1px, 1px, 1px, 1px);height: 1px;margin: -1px;overflow: hidden;padding: 0;position: absolute;width: 1px;}#sk-container-id-2 div.sk-estimator {font-family: monospace;background-color: #f0f8ff;border: 1px dotted black;border-radius: 0.25em;box-sizing: border-box;margin-bottom: 0.5em;}#sk-container-id-2 div.sk-estimator:hover {background-color: #d4ebff;}#sk-container-id-2 div.sk-parallel-item::after {content: \"\";width: 100%;border-bottom: 1px solid gray;flex-grow: 1;}#sk-container-id-2 div.sk-label:hover label.sk-toggleable__label {background-color: #d4ebff;}#sk-container-id-2 div.sk-serial::before {content: \"\";position: absolute;border-left: 1px solid gray;box-sizing: border-box;top: 0;bottom: 0;left: 50%;z-index: 0;}#sk-container-id-2 div.sk-serial {display: flex;flex-direction: column;align-items: center;background-color: white;padding-right: 0.2em;padding-left: 0.2em;position: relative;}#sk-container-id-2 div.sk-item {position: relative;z-index: 1;}#sk-container-id-2 div.sk-parallel {display: flex;align-items: stretch;justify-content: center;background-color: white;position: relative;}#sk-container-id-2 div.sk-item::before, #sk-container-id-2 div.sk-parallel-item::before {content: \"\";position: absolute;border-left: 1px solid gray;box-sizing: border-box;top: 0;bottom: 0;left: 50%;z-index: -1;}#sk-container-id-2 div.sk-parallel-item {display: flex;flex-direction: column;z-index: 1;position: relative;background-color: white;}#sk-container-id-2 div.sk-parallel-item:first-child::after {align-self: flex-end;width: 50%;}#sk-container-id-2 div.sk-parallel-item:last-child::after {align-self: flex-start;width: 50%;}#sk-container-id-2 div.sk-parallel-item:only-child::after {width: 0;}#sk-container-id-2 div.sk-dashed-wrapped {border: 1px dashed gray;margin: 0 0.4em 0.5em 0.4em;box-sizing: border-box;padding-bottom: 0.4em;background-color: white;}#sk-container-id-2 div.sk-label label {font-family: monospace;font-weight: bold;display: inline-block;line-height: 1.2em;}#sk-container-id-2 div.sk-label-container {text-align: center;}#sk-container-id-2 div.sk-container {/* jupyter's `normalize.less` sets `[hidden] { display: none; }` but bootstrap.min.css set `[hidden] { display: none !important; }` so we also need the `!important` here to be able to override the default hidden behavior on the sphinx rendered scikit-learn.org. See: https://github.com/scikit-learn/scikit-learn/issues/21755 */display: inline-block !important;position: relative;}#sk-container-id-2 div.sk-text-repr-fallback {display: none;}</style><div id=\"sk-container-id-2\" class=\"sk-top-container\"><div class=\"sk-text-repr-fallback\"><pre>DecisionTreeClassifier(random_state=0)</pre><b>In a Jupyter environment, please rerun this cell to show the HTML representation or trust the notebook. <br />On GitHub, the HTML representation is unable to render, please try loading this page with nbviewer.org.</b></div><div class=\"sk-container\" hidden><div class=\"sk-item\"><div class=\"sk-estimator sk-toggleable\"><input class=\"sk-toggleable__control sk-hidden--visually\" id=\"sk-estimator-id-2\" type=\"checkbox\" checked><label for=\"sk-estimator-id-2\" class=\"sk-toggleable__label sk-toggleable__label-arrow\">DecisionTreeClassifier</label><div class=\"sk-toggleable__content\"><pre>DecisionTreeClassifier(random_state=0)</pre></div></div></div></div></div>"
      ],
      "text/plain": [
       "DecisionTreeClassifier(random_state=0)"
      ]
     },
     "execution_count": 30,
     "metadata": {},
     "output_type": "execute_result"
    }
   ],
   "source": [
    "#Se entrena el modelo a partir de los datos de entrada\n",
    "ClasificacionAD = DecisionTreeClassifier(random_state=0)\n",
    "ClasificacionAD.fit(X_train, Y_train)\n",
    "\n",
    "#ClasificacionAD = DecisionTreeClassifier(min_samples_split=8, \n",
    "#                                         min_samples_leaf=4,\n",
    "#                                         random_state=0)\n",
    "#ClasificacionAD.fit(X_train, Y_train)\n",
    "\n",
    "#recomendación: primero obtener el modelo con los datos por defecto, a partir de ahí, observar el comportamiento\n",
    "#que tiene el modelo y de con ello, empezar a modificar los valores. Es decir, es una referencia"
   ]
  },
  {
   "cell_type": "code",
   "execution_count": 31,
   "metadata": {
    "colab": {
     "base_uri": "https://localhost:8080/"
    },
    "executionInfo": {
     "elapsed": 290,
     "status": "ok",
     "timestamp": 1668466881790,
     "user": {
      "displayName": "Guillermo Molero-Castillo",
      "userId": "05385957137518665248"
     },
     "user_tz": 360
    },
    "id": "bmVdfqUSZ_jD",
    "outputId": "ab37dd81-6b1a-4f03-dd38-81b713e97952"
   },
   "outputs": [
    {
     "name": "stdout",
     "output_type": "stream",
     "text": [
      "[5 3 1 3 5 3 3 2 3 3 3 3 3 2 3 2 1 3 1 3 1 3 3 4 3 2 3 1 2 1 5 2 2 3 1 5 3\n",
      " 3 1 1 2 4 1 5 1 2 3 2 3 2 3 3 4 5 5 2 2 3 5 3 3 2 2 1 3 1 3 5 5 5 2 0 3 2\n",
      " 2 1 3 2 4 1 5 2 1 1 3 3 4 3 3 3 2 2 1 3 1 2 1 5 3 5 5 3 2 1 3 3 3 2 1 3 1\n",
      " 3 1 4 1 2 3 1 1 3 3 5 0 3 1 1 2 5 3 5 2 3 1 1 5 3 5 3 5 3 1 3 3 3 3 5 1 5\n",
      " 1 3 1 3 2 3 3 2 5 3 1 2 1 3 5 3 5 3 2 1 2 5 5 3 3 5 4 1 4 1 1 3 2 1 3 5 1\n",
      " 3 2 2 2 2 1 5 3 3 3 3 3 3 3 2 2 1 3 3 2 3 3 1 5 2 1 2 0 5 3 3 5 1 3 3 3 5\n",
      " 1 5 3 5 1 3 5 3 3 1 3 5 1 2 5 1 1 5 3 3 3 3 3 3 3 2 0 1 3 3 3 3 3 3 2 3 3\n",
      " 5 3 1 3 5 3 3 3 4 5 2 5 3 3 1 5 2 1 2 1 5 2 1 3 5 3 3 3 3 2 5 2 1 5 5 3 1\n",
      " 2 5 3 3 1 3 3 2 1 2 3 3 3 3 2 2 3 5 2 5 1 1 3 1]\n"
     ]
    }
   ],
   "source": [
    "#Clasificación final \n",
    "Y_ClasificacionAD = ClasificacionAD.predict(X_validation)\n",
    "print(Y_ClasificacionAD)"
   ]
  },
  {
   "cell_type": "code",
   "execution_count": 32,
   "metadata": {},
   "outputs": [
    {
     "data": {
      "text/html": [
       "<div>\n",
       "<style scoped>\n",
       "    .dataframe tbody tr th:only-of-type {\n",
       "        vertical-align: middle;\n",
       "    }\n",
       "\n",
       "    .dataframe tbody tr th {\n",
       "        vertical-align: top;\n",
       "    }\n",
       "\n",
       "    .dataframe thead th {\n",
       "        text-align: right;\n",
       "    }\n",
       "</style>\n",
       "<table border=\"1\" class=\"dataframe\">\n",
       "  <thead>\n",
       "    <tr style=\"text-align: right;\">\n",
       "      <th></th>\n",
       "      <th>0</th>\n",
       "    </tr>\n",
       "  </thead>\n",
       "  <tbody>\n",
       "    <tr>\n",
       "      <th>5</th>\n",
       "      <td>5</td>\n",
       "    </tr>\n",
       "    <tr>\n",
       "      <th>3</th>\n",
       "      <td>3</td>\n",
       "    </tr>\n",
       "    <tr>\n",
       "      <th>1</th>\n",
       "      <td>1</td>\n",
       "    </tr>\n",
       "    <tr>\n",
       "      <th>3</th>\n",
       "      <td>3</td>\n",
       "    </tr>\n",
       "    <tr>\n",
       "      <th>5</th>\n",
       "      <td>5</td>\n",
       "    </tr>\n",
       "    <tr>\n",
       "      <th>...</th>\n",
       "      <td>...</td>\n",
       "    </tr>\n",
       "    <tr>\n",
       "      <th>5</th>\n",
       "      <td>1</td>\n",
       "    </tr>\n",
       "    <tr>\n",
       "      <th>1</th>\n",
       "      <td>1</td>\n",
       "    </tr>\n",
       "    <tr>\n",
       "      <th>1</th>\n",
       "      <td>1</td>\n",
       "    </tr>\n",
       "    <tr>\n",
       "      <th>3</th>\n",
       "      <td>3</td>\n",
       "    </tr>\n",
       "    <tr>\n",
       "      <th>1</th>\n",
       "      <td>1</td>\n",
       "    </tr>\n",
       "  </tbody>\n",
       "</table>\n",
       "<p>320 rows × 1 columns</p>\n",
       "</div>"
      ],
      "text/plain": [
       "    0\n",
       "5   5\n",
       "3   3\n",
       "1   1\n",
       "3   3\n",
       "5   5\n",
       ".. ..\n",
       "5   1\n",
       "1   1\n",
       "1   1\n",
       "3   3\n",
       "1   1\n",
       "\n",
       "[320 rows x 1 columns]"
      ]
     },
     "execution_count": 32,
     "metadata": {},
     "output_type": "execute_result"
    }
   ],
   "source": [
    "ValoresMod1 = pd.DataFrame(Y_validation, Y_ClasificacionAD)\n",
    "ValoresMod1"
   ]
  },
  {
   "cell_type": "code",
   "execution_count": 33,
   "metadata": {
    "colab": {
     "base_uri": "https://localhost:8080/"
    },
    "executionInfo": {
     "elapsed": 334,
     "status": "ok",
     "timestamp": 1668466884837,
     "user": {
      "displayName": "Guillermo Molero-Castillo",
      "userId": "05385957137518665248"
     },
     "user_tz": 360
    },
    "id": "krdzIEZSapUR",
    "outputId": "61a7912b-c37e-4ed8-d221-2f1b0b18fe4f"
   },
   "outputs": [
    {
     "data": {
      "text/plain": [
       "0.946875"
      ]
     },
     "execution_count": 33,
     "metadata": {},
     "output_type": "execute_result"
    }
   ],
   "source": [
    "accuracy_score(Y_validation, Y_ClasificacionAD)"
   ]
  },
  {
   "cell_type": "markdown",
   "metadata": {
    "id": "FkzPkjsPK3Zd"
   },
   "source": [
    "#### **Matriz de clasificación: Árbol de decisión**"
   ]
  },
  {
   "cell_type": "code",
   "execution_count": 34,
   "metadata": {
    "colab": {
     "base_uri": "https://localhost:8080/",
     "height": 143
    },
    "executionInfo": {
     "elapsed": 343,
     "status": "ok",
     "timestamp": 1668466797625,
     "user": {
      "displayName": "Guillermo Molero-Castillo",
      "userId": "05385957137518665248"
     },
     "user_tz": 360
    },
    "id": "jFlEMq0w2k_0",
    "outputId": "e74b8bff-4955-4029-d3f8-d5ae976d227b"
   },
   "outputs": [
    {
     "data": {
      "text/html": [
       "<div>\n",
       "<style scoped>\n",
       "    .dataframe tbody tr th:only-of-type {\n",
       "        vertical-align: middle;\n",
       "    }\n",
       "\n",
       "    .dataframe tbody tr th {\n",
       "        vertical-align: top;\n",
       "    }\n",
       "\n",
       "    .dataframe thead th {\n",
       "        text-align: right;\n",
       "    }\n",
       "</style>\n",
       "<table border=\"1\" class=\"dataframe\">\n",
       "  <thead>\n",
       "    <tr style=\"text-align: right;\">\n",
       "      <th>Clasificación</th>\n",
       "      <th>0</th>\n",
       "      <th>1</th>\n",
       "      <th>2</th>\n",
       "      <th>3</th>\n",
       "      <th>4</th>\n",
       "      <th>5</th>\n",
       "    </tr>\n",
       "    <tr>\n",
       "      <th>Actual</th>\n",
       "      <th></th>\n",
       "      <th></th>\n",
       "      <th></th>\n",
       "      <th></th>\n",
       "      <th></th>\n",
       "      <th></th>\n",
       "    </tr>\n",
       "  </thead>\n",
       "  <tbody>\n",
       "    <tr>\n",
       "      <th>0</th>\n",
       "      <td>4</td>\n",
       "      <td>0</td>\n",
       "      <td>0</td>\n",
       "      <td>1</td>\n",
       "      <td>0</td>\n",
       "      <td>0</td>\n",
       "    </tr>\n",
       "    <tr>\n",
       "      <th>1</th>\n",
       "      <td>0</td>\n",
       "      <td>64</td>\n",
       "      <td>0</td>\n",
       "      <td>4</td>\n",
       "      <td>0</td>\n",
       "      <td>1</td>\n",
       "    </tr>\n",
       "    <tr>\n",
       "      <th>2</th>\n",
       "      <td>0</td>\n",
       "      <td>0</td>\n",
       "      <td>58</td>\n",
       "      <td>0</td>\n",
       "      <td>1</td>\n",
       "      <td>2</td>\n",
       "    </tr>\n",
       "    <tr>\n",
       "      <th>3</th>\n",
       "      <td>0</td>\n",
       "      <td>1</td>\n",
       "      <td>0</td>\n",
       "      <td>123</td>\n",
       "      <td>0</td>\n",
       "      <td>4</td>\n",
       "    </tr>\n",
       "    <tr>\n",
       "      <th>4</th>\n",
       "      <td>0</td>\n",
       "      <td>0</td>\n",
       "      <td>0</td>\n",
       "      <td>0</td>\n",
       "      <td>8</td>\n",
       "      <td>1</td>\n",
       "    </tr>\n",
       "    <tr>\n",
       "      <th>5</th>\n",
       "      <td>0</td>\n",
       "      <td>2</td>\n",
       "      <td>0</td>\n",
       "      <td>0</td>\n",
       "      <td>0</td>\n",
       "      <td>46</td>\n",
       "    </tr>\n",
       "  </tbody>\n",
       "</table>\n",
       "</div>"
      ],
      "text/plain": [
       "Clasificación  0   1   2    3  4   5\n",
       "Actual                              \n",
       "0              4   0   0    1  0   0\n",
       "1              0  64   0    4  0   1\n",
       "2              0   0  58    0  1   2\n",
       "3              0   1   0  123  0   4\n",
       "4              0   0   0    0  8   1\n",
       "5              0   2   0    0  0  46"
      ]
     },
     "execution_count": 34,
     "metadata": {},
     "output_type": "execute_result"
    }
   ],
   "source": [
    "#Matriz de clasificación\n",
    "ModeloClasificacion1 = ClasificacionAD.predict(X_validation)\n",
    "Matriz_Clasificacion1 = pd.crosstab(Y_validation.ravel(), \n",
    "                                   ModeloClasificacion1, \n",
    "                                   rownames=['Actual'], \n",
    "                                   colnames=['Clasificación']) \n",
    "Matriz_Clasificacion1\n",
    "\n",
    "#-Linealidad: afecta mucho a los clasificaciones, las binarias y multiples. si son linealmente separables, aunque \"haya\n",
    "#desbalance\", no afecta en las clasificaciones y se obtienen resultados buenos, pero cuando no son linealmente separables\n",
    "#sí afecta mucho el desbalance\n",
    "#-desbalance o desajuste (en y, salida), le pega mucho (afecta) a la clasificación binaria sobretodo "
   ]
  },
  {
   "cell_type": "code",
   "execution_count": 35,
   "metadata": {
    "colab": {
     "base_uri": "https://localhost:8080/"
    },
    "executionInfo": {
     "elapsed": 414,
     "status": "ok",
     "timestamp": 1668466801253,
     "user": {
      "displayName": "Guillermo Molero-Castillo",
      "userId": "05385957137518665248"
     },
     "user_tz": 360
    },
    "id": "ndiYBD9P3ZeX",
    "outputId": "eb456ba5-3a25-4aca-f71f-489657269768"
   },
   "outputs": [
    {
     "name": "stdout",
     "output_type": "stream",
     "text": [
      "Criterio: \n",
      " gini\n",
      "Importancia variables: \n",
      " [0.26695429 0.10289585 0.03284165 0.2316745  0.08360741 0.2820263 ]\n",
      "Exactitud: 0.946875\n",
      "              precision    recall  f1-score   support\n",
      "\n",
      "           0       1.00      0.80      0.89         5\n",
      "           1       0.96      0.93      0.94        69\n",
      "           2       1.00      0.95      0.97        61\n",
      "           3       0.96      0.96      0.96       128\n",
      "           4       0.89      0.89      0.89         9\n",
      "           5       0.85      0.96      0.90        48\n",
      "\n",
      "    accuracy                           0.95       320\n",
      "   macro avg       0.94      0.91      0.93       320\n",
      "weighted avg       0.95      0.95      0.95       320\n",
      "\n"
     ]
    }
   ],
   "source": [
    "#Reporte de la clasificación\n",
    "print('Criterio: \\n', ClasificacionAD.criterion)\n",
    "print('Importancia variables: \\n', ClasificacionAD.feature_importances_)\n",
    "print(\"Exactitud:\", accuracy_score(Y_validation, Y_ClasificacionAD))\n",
    "print(classification_report(Y_validation, Y_ClasificacionAD))"
   ]
  },
  {
   "cell_type": "markdown",
   "metadata": {},
   "source": [
    "#### **Eficiencia y conformación del modelo de clasificación**\n",
    "* En la matriz de confusión se utilizó 303 instancias de prueba, clasificándose de manera errónea 17 casos. Esto hace que el modelo tenga un 94.68% de exactitud y un 100%, 96%, 100%, 96%, 89% y 85% de precisión para las clases 0, 1, 2, 3, 4 y 5, respectivamente.\n",
    "\n",
    "* Por otro lado, el error promedio es de 16%."
   ]
  },
  {
   "cell_type": "code",
   "execution_count": 36,
   "metadata": {},
   "outputs": [
    {
     "data": {
      "text/html": [
       "<div>\n",
       "<style scoped>\n",
       "    .dataframe tbody tr th:only-of-type {\n",
       "        vertical-align: middle;\n",
       "    }\n",
       "\n",
       "    .dataframe tbody tr th {\n",
       "        vertical-align: top;\n",
       "    }\n",
       "\n",
       "    .dataframe thead th {\n",
       "        text-align: right;\n",
       "    }\n",
       "</style>\n",
       "<table border=\"1\" class=\"dataframe\">\n",
       "  <thead>\n",
       "    <tr style=\"text-align: right;\">\n",
       "      <th></th>\n",
       "      <th>Variable</th>\n",
       "      <th>Importancia</th>\n",
       "    </tr>\n",
       "  </thead>\n",
       "  <tbody>\n",
       "    <tr>\n",
       "      <th>5</th>\n",
       "      <td>alcohol</td>\n",
       "      <td>0.282026</td>\n",
       "    </tr>\n",
       "    <tr>\n",
       "      <th>0</th>\n",
       "      <td>fixed.acidity</td>\n",
       "      <td>0.266954</td>\n",
       "    </tr>\n",
       "    <tr>\n",
       "      <th>3</th>\n",
       "      <td>free.sulfur.dioxide</td>\n",
       "      <td>0.231674</td>\n",
       "    </tr>\n",
       "    <tr>\n",
       "      <th>1</th>\n",
       "      <td>residual.sugar</td>\n",
       "      <td>0.102896</td>\n",
       "    </tr>\n",
       "    <tr>\n",
       "      <th>4</th>\n",
       "      <td>sulphates</td>\n",
       "      <td>0.083607</td>\n",
       "    </tr>\n",
       "    <tr>\n",
       "      <th>2</th>\n",
       "      <td>chlorides</td>\n",
       "      <td>0.032842</td>\n",
       "    </tr>\n",
       "  </tbody>\n",
       "</table>\n",
       "</div>"
      ],
      "text/plain": [
       "              Variable  Importancia\n",
       "5              alcohol     0.282026\n",
       "0        fixed.acidity     0.266954\n",
       "3  free.sulfur.dioxide     0.231674\n",
       "1       residual.sugar     0.102896\n",
       "4            sulphates     0.083607\n",
       "2            chlorides     0.032842"
      ]
     },
     "execution_count": 36,
     "metadata": {},
     "output_type": "execute_result"
    }
   ],
   "source": [
    "ImportanciaMod1 = pd.DataFrame({'Variable': list(Vinos[['fixed.acidity',\n",
    "                    'residual.sugar',\n",
    "                    'chlorides',\n",
    "                    'free.sulfur.dioxide',                    \n",
    "                    'sulphates',\n",
    "                    'alcohol']]),\n",
    "                                'Importancia': ClasificacionAD.feature_importances_}).sort_values('Importancia', ascending=False)\n",
    "ImportanciaMod1"
   ]
  },
  {
   "cell_type": "code",
   "execution_count": 37,
   "metadata": {
    "jupyter": {
     "outputs_hidden": true
    },
    "tags": []
   },
   "outputs": [
    {
     "data": {
      "image/png": "[encoded data removed]",
      "text/plain": [
       "<Figure size 1600x1600 with 1 Axes>"
      ]
     },
     "metadata": {},
     "output_type": "display_data"
    }
   ],
   "source": [
    "from sklearn.tree import plot_tree\n",
    "plt.figure(figsize=(16,16))  \n",
    "plot_tree(ClasificacionAD, \n",
    "          feature_names = ['fixed.acidity',\n",
    "                    'residual.sugar',\n",
    "                    'chlorides',\n",
    "                    'free.sulfur.dioxide',                    \n",
    "                    'sulphates',\n",
    "                    'alcohol'],\n",
    "         class_names = ['3', '4', '5', '6', '7', '8'])\n",
    "plt.show()\n",
    "\n",
    "#podamos al rededor la mitad para evitar el sobreajuste (min_samples_split o niveles de profunidad)\n",
    "#también aumentamos el número de elementos por hoja, mínimo 2, pero 3,4 o 5 son buenos valores"
   ]
  },
  {
   "cell_type": "code",
   "execution_count": 38,
   "metadata": {
    "jupyter": {
     "outputs_hidden": true
    },
    "tags": []
   },
   "outputs": [
    {
     "name": "stdout",
     "output_type": "stream",
     "text": [
      "|--- free.sulfur.dioxide <= 22.50\n",
      "|   |--- alcohol <= 10.75\n",
      "|   |   |--- fixed.acidity <= 10.05\n",
      "|   |   |   |--- sulphates <= 0.76\n",
      "|   |   |   |   |--- residual.sugar <= 4.75\n",
      "|   |   |   |   |   |--- free.sulfur.dioxide <= 21.50\n",
      "|   |   |   |   |   |   |--- fixed.acidity <= 9.25\n",
      "|   |   |   |   |   |   |   |--- free.sulfur.dioxide <= 20.50\n",
      "|   |   |   |   |   |   |   |   |--- class: 3\n",
      "|   |   |   |   |   |   |   |--- free.sulfur.dioxide >  20.50\n",
      "|   |   |   |   |   |   |   |   |--- alcohol <= 10.05\n",
      "|   |   |   |   |   |   |   |   |   |--- class: 3\n",
      "|   |   |   |   |   |   |   |   |--- alcohol >  10.05\n",
      "|   |   |   |   |   |   |   |   |   |--- class: 2\n",
      "|   |   |   |   |   |   |--- fixed.acidity >  9.25\n",
      "|   |   |   |   |   |   |   |--- sulphates <= 0.66\n",
      "|   |   |   |   |   |   |   |   |--- residual.sugar <= 2.95\n",
      "|   |   |   |   |   |   |   |   |   |--- class: 3\n",
      "|   |   |   |   |   |   |   |   |--- residual.sugar >  2.95\n",
      "|   |   |   |   |   |   |   |   |   |--- fixed.acidity <= 9.60\n",
      "|   |   |   |   |   |   |   |   |   |   |--- class: 3\n",
      "|   |   |   |   |   |   |   |   |   |--- fixed.acidity >  9.60\n",
      "|   |   |   |   |   |   |   |   |   |   |--- class: 5\n",
      "|   |   |   |   |   |   |   |--- sulphates >  0.66\n",
      "|   |   |   |   |   |   |   |   |--- residual.sugar <= 2.40\n",
      "|   |   |   |   |   |   |   |   |   |--- alcohol <= 9.65\n",
      "|   |   |   |   |   |   |   |   |   |   |--- class: 0\n",
      "|   |   |   |   |   |   |   |   |   |--- alcohol >  9.65\n",
      "|   |   |   |   |   |   |   |   |   |   |--- alcohol <= 10.25\n",
      "|   |   |   |   |   |   |   |   |   |   |   |--- class: 3\n",
      "|   |   |   |   |   |   |   |   |   |   |--- alcohol >  10.25\n",
      "|   |   |   |   |   |   |   |   |   |   |   |--- class: 5\n",
      "|   |   |   |   |   |   |   |   |--- residual.sugar >  2.40\n",
      "|   |   |   |   |   |   |   |   |   |--- class: 5\n",
      "|   |   |   |   |   |--- free.sulfur.dioxide >  21.50\n",
      "|   |   |   |   |   |   |--- residual.sugar <= 2.15\n",
      "|   |   |   |   |   |   |   |--- sulphates <= 0.68\n",
      "|   |   |   |   |   |   |   |   |--- class: 3\n",
      "|   |   |   |   |   |   |   |--- sulphates >  0.68\n",
      "|   |   |   |   |   |   |   |   |--- class: 2\n",
      "|   |   |   |   |   |   |--- residual.sugar >  2.15\n",
      "|   |   |   |   |   |   |   |--- class: 2\n",
      "|   |   |   |   |--- residual.sugar >  4.75\n",
      "|   |   |   |   |   |--- residual.sugar <= 5.55\n",
      "|   |   |   |   |   |   |--- free.sulfur.dioxide <= 12.00\n",
      "|   |   |   |   |   |   |   |--- class: 3\n",
      "|   |   |   |   |   |   |--- free.sulfur.dioxide >  12.00\n",
      "|   |   |   |   |   |   |   |--- class: 4\n",
      "|   |   |   |   |   |--- residual.sugar >  5.55\n",
      "|   |   |   |   |   |   |--- class: 4\n",
      "|   |   |   |--- sulphates >  0.76\n",
      "|   |   |   |   |--- chlorides <= 0.29\n",
      "|   |   |   |   |   |--- fixed.acidity <= 9.00\n",
      "|   |   |   |   |   |   |--- alcohol <= 9.70\n",
      "|   |   |   |   |   |   |   |--- sulphates <= 1.30\n",
      "|   |   |   |   |   |   |   |   |--- class: 3\n",
      "|   |   |   |   |   |   |   |--- sulphates >  1.30\n",
      "|   |   |   |   |   |   |   |   |--- class: 5\n",
      "|   |   |   |   |   |   |--- alcohol >  9.70\n",
      "|   |   |   |   |   |   |   |--- residual.sugar <= 5.05\n",
      "|   |   |   |   |   |   |   |   |--- free.sulfur.dioxide <= 18.50\n",
      "|   |   |   |   |   |   |   |   |   |--- alcohol <= 10.40\n",
      "|   |   |   |   |   |   |   |   |   |   |--- fixed.acidity <= 7.70\n",
      "|   |   |   |   |   |   |   |   |   |   |   |--- class: 3\n",
      "|   |   |   |   |   |   |   |   |   |   |--- fixed.acidity >  7.70\n",
      "|   |   |   |   |   |   |   |   |   |   |   |--- class: 5\n",
      "|   |   |   |   |   |   |   |   |   |--- alcohol >  10.40\n",
      "|   |   |   |   |   |   |   |   |   |   |--- alcohol <= 10.65\n",
      "|   |   |   |   |   |   |   |   |   |   |   |--- class: 1\n",
      "|   |   |   |   |   |   |   |   |   |   |--- alcohol >  10.65\n",
      "|   |   |   |   |   |   |   |   |   |   |   |--- class: 3\n",
      "|   |   |   |   |   |   |   |   |--- free.sulfur.dioxide >  18.50\n",
      "|   |   |   |   |   |   |   |   |   |--- sulphates <= 1.56\n",
      "|   |   |   |   |   |   |   |   |   |   |--- class: 2\n",
      "|   |   |   |   |   |   |   |   |   |--- sulphates >  1.56\n",
      "|   |   |   |   |   |   |   |   |   |   |--- class: 0\n",
      "|   |   |   |   |   |   |   |--- residual.sugar >  5.05\n",
      "|   |   |   |   |   |   |   |   |--- class: 4\n",
      "|   |   |   |   |   |--- fixed.acidity >  9.00\n",
      "|   |   |   |   |   |   |--- alcohol <= 9.50\n",
      "|   |   |   |   |   |   |   |--- chlorides <= 0.09\n",
      "|   |   |   |   |   |   |   |   |--- class: 5\n",
      "|   |   |   |   |   |   |   |--- chlorides >  0.09\n",
      "|   |   |   |   |   |   |   |   |--- class: 3\n",
      "|   |   |   |   |   |   |--- alcohol >  9.50\n",
      "|   |   |   |   |   |   |   |--- class: 5\n",
      "|   |   |   |   |--- chlorides >  0.29\n",
      "|   |   |   |   |   |--- class: 0\n",
      "|   |   |--- fixed.acidity >  10.05\n",
      "|   |   |   |--- sulphates <= 0.50\n",
      "|   |   |   |   |--- fixed.acidity <= 11.20\n",
      "|   |   |   |   |   |--- class: 3\n",
      "|   |   |   |   |--- fixed.acidity >  11.20\n",
      "|   |   |   |   |   |--- class: 5\n",
      "|   |   |   |--- sulphates >  0.50\n",
      "|   |   |   |   |--- residual.sugar <= 10.65\n",
      "|   |   |   |   |   |--- chlorides <= 0.28\n",
      "|   |   |   |   |   |   |--- fixed.acidity <= 10.55\n",
      "|   |   |   |   |   |   |   |--- sulphates <= 0.60\n",
      "|   |   |   |   |   |   |   |   |--- class: 3\n",
      "|   |   |   |   |   |   |   |--- sulphates >  0.60\n",
      "|   |   |   |   |   |   |   |   |--- alcohol <= 9.35\n",
      "|   |   |   |   |   |   |   |   |   |--- fixed.acidity <= 10.25\n",
      "|   |   |   |   |   |   |   |   |   |   |--- class: 3\n",
      "|   |   |   |   |   |   |   |   |   |--- fixed.acidity >  10.25\n",
      "|   |   |   |   |   |   |   |   |   |   |--- class: 5\n",
      "|   |   |   |   |   |   |   |   |--- alcohol >  9.35\n",
      "|   |   |   |   |   |   |   |   |   |--- class: 5\n",
      "|   |   |   |   |   |   |--- fixed.acidity >  10.55\n",
      "|   |   |   |   |   |   |   |--- class: 5\n",
      "|   |   |   |   |   |--- chlorides >  0.28\n",
      "|   |   |   |   |   |   |--- class: 0\n",
      "|   |   |   |   |--- residual.sugar >  10.65\n",
      "|   |   |   |   |   |--- class: 4\n",
      "|   |--- alcohol >  10.75\n",
      "|   |   |--- fixed.acidity <= 9.25\n",
      "|   |   |   |--- residual.sugar <= 5.30\n",
      "|   |   |   |   |--- alcohol <= 10.95\n",
      "|   |   |   |   |   |--- sulphates <= 0.61\n",
      "|   |   |   |   |   |   |--- fixed.acidity <= 7.55\n",
      "|   |   |   |   |   |   |   |--- sulphates <= 0.54\n",
      "|   |   |   |   |   |   |   |   |--- free.sulfur.dioxide <= 17.50\n",
      "|   |   |   |   |   |   |   |   |   |--- class: 3\n",
      "|   |   |   |   |   |   |   |   |--- free.sulfur.dioxide >  17.50\n",
      "|   |   |   |   |   |   |   |   |   |--- class: 2\n",
      "|   |   |   |   |   |   |   |--- sulphates >  0.54\n",
      "|   |   |   |   |   |   |   |   |--- class: 1\n",
      "|   |   |   |   |   |   |--- fixed.acidity >  7.55\n",
      "|   |   |   |   |   |   |   |--- class: 3\n",
      "|   |   |   |   |   |--- sulphates >  0.61\n",
      "|   |   |   |   |   |   |--- sulphates <= 0.87\n",
      "|   |   |   |   |   |   |   |--- class: 1\n",
      "|   |   |   |   |   |   |--- sulphates >  0.87\n",
      "|   |   |   |   |   |   |   |--- class: 5\n",
      "|   |   |   |   |--- alcohol >  10.95\n",
      "|   |   |   |   |   |--- alcohol <= 11.05\n",
      "|   |   |   |   |   |   |--- sulphates <= 0.53\n",
      "|   |   |   |   |   |   |   |--- class: 3\n",
      "|   |   |   |   |   |   |--- sulphates >  0.53\n",
      "|   |   |   |   |   |   |   |--- fixed.acidity <= 7.95\n",
      "|   |   |   |   |   |   |   |   |--- class: 1\n",
      "|   |   |   |   |   |   |   |--- fixed.acidity >  7.95\n",
      "|   |   |   |   |   |   |   |   |--- chlorides <= 0.08\n",
      "|   |   |   |   |   |   |   |   |   |--- class: 1\n",
      "|   |   |   |   |   |   |   |   |--- chlorides >  0.08\n",
      "|   |   |   |   |   |   |   |   |   |--- class: 3\n",
      "|   |   |   |   |   |--- alcohol >  11.05\n",
      "|   |   |   |   |   |   |--- class: 1\n",
      "|   |   |   |--- residual.sugar >  5.30\n",
      "|   |   |   |   |--- class: 4\n",
      "|   |   |--- fixed.acidity >  9.25\n",
      "|   |   |   |--- fixed.acidity <= 10.05\n",
      "|   |   |   |   |--- alcohol <= 12.10\n",
      "|   |   |   |   |   |--- residual.sugar <= 4.80\n",
      "|   |   |   |   |   |   |--- sulphates <= 0.60\n",
      "|   |   |   |   |   |   |   |--- chlorides <= 0.06\n",
      "|   |   |   |   |   |   |   |   |--- class: 5\n",
      "|   |   |   |   |   |   |   |--- chlorides >  0.06\n",
      "|   |   |   |   |   |   |   |   |--- class: 1\n",
      "|   |   |   |   |   |   |--- sulphates >  0.60\n",
      "|   |   |   |   |   |   |   |--- chlorides <= 0.05\n",
      "|   |   |   |   |   |   |   |   |--- class: 2\n",
      "|   |   |   |   |   |   |   |--- chlorides >  0.05\n",
      "|   |   |   |   |   |   |   |   |--- class: 5\n",
      "|   |   |   |   |   |--- residual.sugar >  4.80\n",
      "|   |   |   |   |   |   |--- class: 4\n",
      "|   |   |   |   |--- alcohol >  12.10\n",
      "|   |   |   |   |   |--- class: 1\n",
      "|   |   |   |--- fixed.acidity >  10.05\n",
      "|   |   |   |   |--- chlorides <= 0.05\n",
      "|   |   |   |   |   |--- class: 1\n",
      "|   |   |   |   |--- chlorides >  0.05\n",
      "|   |   |   |   |   |--- alcohol <= 12.75\n",
      "|   |   |   |   |   |   |--- class: 5\n",
      "|   |   |   |   |   |--- alcohol >  12.75\n",
      "|   |   |   |   |   |   |--- fixed.acidity <= 10.95\n",
      "|   |   |   |   |   |   |   |--- class: 1\n",
      "|   |   |   |   |   |   |--- fixed.acidity >  10.95\n",
      "|   |   |   |   |   |   |   |--- class: 5\n",
      "|--- free.sulfur.dioxide >  22.50\n",
      "|   |--- residual.sugar <= 5.30\n",
      "|   |   |--- alcohol <= 11.45\n",
      "|   |   |   |--- fixed.acidity <= 11.05\n",
      "|   |   |   |   |--- chlorides <= 0.22\n",
      "|   |   |   |   |   |--- alcohol <= 11.08\n",
      "|   |   |   |   |   |   |--- sulphates <= 1.29\n",
      "|   |   |   |   |   |   |   |--- fixed.acidity <= 10.45\n",
      "|   |   |   |   |   |   |   |   |--- chlorides <= 0.13\n",
      "|   |   |   |   |   |   |   |   |   |--- free.sulfur.dioxide <= 23.50\n",
      "|   |   |   |   |   |   |   |   |   |   |--- sulphates <= 0.52\n",
      "|   |   |   |   |   |   |   |   |   |   |   |--- class: 3\n",
      "|   |   |   |   |   |   |   |   |   |   |--- sulphates >  0.52\n",
      "|   |   |   |   |   |   |   |   |   |   |   |--- class: 2\n",
      "|   |   |   |   |   |   |   |   |   |--- free.sulfur.dioxide >  23.50\n",
      "|   |   |   |   |   |   |   |   |   |   |--- class: 2\n",
      "|   |   |   |   |   |   |   |   |--- chlorides >  0.13\n",
      "|   |   |   |   |   |   |   |   |   |--- free.sulfur.dioxide <= 25.50\n",
      "|   |   |   |   |   |   |   |   |   |   |--- class: 5\n",
      "|   |   |   |   |   |   |   |   |   |--- free.sulfur.dioxide >  25.50\n",
      "|   |   |   |   |   |   |   |   |   |   |--- class: 2\n",
      "|   |   |   |   |   |   |   |--- fixed.acidity >  10.45\n",
      "|   |   |   |   |   |   |   |   |--- chlorides <= 0.09\n",
      "|   |   |   |   |   |   |   |   |   |--- class: 2\n",
      "|   |   |   |   |   |   |   |   |--- chlorides >  0.09\n",
      "|   |   |   |   |   |   |   |   |   |--- class: 5\n",
      "|   |   |   |   |   |   |--- sulphates >  1.29\n",
      "|   |   |   |   |   |   |   |--- alcohol <= 9.90\n",
      "|   |   |   |   |   |   |   |   |--- class: 2\n",
      "|   |   |   |   |   |   |   |--- alcohol >  9.90\n",
      "|   |   |   |   |   |   |   |   |--- class: 5\n",
      "|   |   |   |   |   |--- alcohol >  11.08\n",
      "|   |   |   |   |   |   |--- free.sulfur.dioxide <= 26.00\n",
      "|   |   |   |   |   |   |   |--- alcohol <= 11.35\n",
      "|   |   |   |   |   |   |   |   |--- class: 1\n",
      "|   |   |   |   |   |   |   |--- alcohol >  11.35\n",
      "|   |   |   |   |   |   |   |   |--- class: 2\n",
      "|   |   |   |   |   |   |--- free.sulfur.dioxide >  26.00\n",
      "|   |   |   |   |   |   |   |--- class: 2\n",
      "|   |   |   |   |--- chlorides >  0.22\n",
      "|   |   |   |   |   |--- class: 0\n",
      "|   |   |   |--- fixed.acidity >  11.05\n",
      "|   |   |   |   |--- free.sulfur.dioxide <= 35.50\n",
      "|   |   |   |   |   |--- class: 5\n",
      "|   |   |   |   |--- free.sulfur.dioxide >  35.50\n",
      "|   |   |   |   |   |--- class: 2\n",
      "|   |   |--- alcohol >  11.45\n",
      "|   |   |   |--- free.sulfur.dioxide <= 29.50\n",
      "|   |   |   |   |--- fixed.acidity <= 9.70\n",
      "|   |   |   |   |   |--- class: 1\n",
      "|   |   |   |   |--- fixed.acidity >  9.70\n",
      "|   |   |   |   |   |--- class: 5\n",
      "|   |   |   |--- free.sulfur.dioxide >  29.50\n",
      "|   |   |   |   |--- alcohol <= 12.15\n",
      "|   |   |   |   |   |--- class: 2\n",
      "|   |   |   |   |--- alcohol >  12.15\n",
      "|   |   |   |   |   |--- free.sulfur.dioxide <= 43.50\n",
      "|   |   |   |   |   |   |--- class: 1\n",
      "|   |   |   |   |   |--- free.sulfur.dioxide >  43.50\n",
      "|   |   |   |   |   |   |--- class: 2\n",
      "|   |--- residual.sugar >  5.30\n",
      "|   |   |--- class: 4\n",
      "\n"
     ]
    }
   ],
   "source": [
    "from sklearn.tree import export_text\n",
    "Reporte = export_text(ClasificacionAD, feature_names = ['fixed.acidity',\n",
    "                    'residual.sugar',\n",
    "                    'chlorides',\n",
    "                    'free.sulfur.dioxide',                    \n",
    "                    'sulphates',\n",
    "                    'alcohol'])\n",
    "print(Reporte)"
   ]
  },
  {
   "cell_type": "markdown",
   "metadata": {},
   "source": [
    "### **Modelo 2: Bosques aleatorios (BA)**"
   ]
  },
  {
   "cell_type": "code",
   "execution_count": 39,
   "metadata": {},
   "outputs": [],
   "source": [
    "from sklearn.ensemble import RandomForestClassifier"
   ]
  },
  {
   "cell_type": "code",
   "execution_count": 40,
   "metadata": {},
   "outputs": [
    {
     "name": "stderr",
     "output_type": "stream",
     "text": [
      "C:\\Users\\Principal\\AppData\\Local\\Temp\\ipykernel_2416\\1913988339.py:2: DataConversionWarning: A column-vector y was passed when a 1d array was expected. Please change the shape of y to (n_samples,), for example using ravel().\n",
      "  ClasificacionBA.fit(X_train, Y_train)\n"
     ]
    },
    {
     "data": {
      "text/html": [
       "<style>#sk-container-id-3 {color: black;background-color: white;}#sk-container-id-3 pre{padding: 0;}#sk-container-id-3 div.sk-toggleable {background-color: white;}#sk-container-id-3 label.sk-toggleable__label {cursor: pointer;display: block;width: 100%;margin-bottom: 0;padding: 0.3em;box-sizing: border-box;text-align: center;}#sk-container-id-3 label.sk-toggleable__label-arrow:before {content: \"▸\";float: left;margin-right: 0.25em;color: #696969;}#sk-container-id-3 label.sk-toggleable__label-arrow:hover:before {color: black;}#sk-container-id-3 div.sk-estimator:hover label.sk-toggleable__label-arrow:before {color: black;}#sk-container-id-3 div.sk-toggleable__content {max-height: 0;max-width: 0;overflow: hidden;text-align: left;background-color: #f0f8ff;}#sk-container-id-3 div.sk-toggleable__content pre {margin: 0.2em;color: black;border-radius: 0.25em;background-color: #f0f8ff;}#sk-container-id-3 input.sk-toggleable__control:checked~div.sk-toggleable__content {max-height: 200px;max-width: 100%;overflow: auto;}#sk-container-id-3 input.sk-toggleable__control:checked~label.sk-toggleable__label-arrow:before {content: \"▾\";}#sk-container-id-3 div.sk-estimator input.sk-toggleable__control:checked~label.sk-toggleable__label {background-color: #d4ebff;}#sk-container-id-3 div.sk-label input.sk-toggleable__control:checked~label.sk-toggleable__label {background-color: #d4ebff;}#sk-container-id-3 input.sk-hidden--visually {border: 0;clip: rect(1px 1px 1px 1px);clip: rect(1px, 1px, 1px, 1px);height: 1px;margin: -1px;overflow: hidden;padding: 0;position: absolute;width: 1px;}#sk-container-id-3 div.sk-estimator {font-family: monospace;background-color: #f0f8ff;border: 1px dotted black;border-radius: 0.25em;box-sizing: border-box;margin-bottom: 0.5em;}#sk-container-id-3 div.sk-estimator:hover {background-color: #d4ebff;}#sk-container-id-3 div.sk-parallel-item::after {content: \"\";width: 100%;border-bottom: 1px solid gray;flex-grow: 1;}#sk-container-id-3 div.sk-label:hover label.sk-toggleable__label {background-color: #d4ebff;}#sk-container-id-3 div.sk-serial::before {content: \"\";position: absolute;border-left: 1px solid gray;box-sizing: border-box;top: 0;bottom: 0;left: 50%;z-index: 0;}#sk-container-id-3 div.sk-serial {display: flex;flex-direction: column;align-items: center;background-color: white;padding-right: 0.2em;padding-left: 0.2em;position: relative;}#sk-container-id-3 div.sk-item {position: relative;z-index: 1;}#sk-container-id-3 div.sk-parallel {display: flex;align-items: stretch;justify-content: center;background-color: white;position: relative;}#sk-container-id-3 div.sk-item::before, #sk-container-id-3 div.sk-parallel-item::before {content: \"\";position: absolute;border-left: 1px solid gray;box-sizing: border-box;top: 0;bottom: 0;left: 50%;z-index: -1;}#sk-container-id-3 div.sk-parallel-item {display: flex;flex-direction: column;z-index: 1;position: relative;background-color: white;}#sk-container-id-3 div.sk-parallel-item:first-child::after {align-self: flex-end;width: 50%;}#sk-container-id-3 div.sk-parallel-item:last-child::after {align-self: flex-start;width: 50%;}#sk-container-id-3 div.sk-parallel-item:only-child::after {width: 0;}#sk-container-id-3 div.sk-dashed-wrapped {border: 1px dashed gray;margin: 0 0.4em 0.5em 0.4em;box-sizing: border-box;padding-bottom: 0.4em;background-color: white;}#sk-container-id-3 div.sk-label label {font-family: monospace;font-weight: bold;display: inline-block;line-height: 1.2em;}#sk-container-id-3 div.sk-label-container {text-align: center;}#sk-container-id-3 div.sk-container {/* jupyter's `normalize.less` sets `[hidden] { display: none; }` but bootstrap.min.css set `[hidden] { display: none !important; }` so we also need the `!important` here to be able to override the default hidden behavior on the sphinx rendered scikit-learn.org. See: https://github.com/scikit-learn/scikit-learn/issues/21755 */display: inline-block !important;position: relative;}#sk-container-id-3 div.sk-text-repr-fallback {display: none;}</style><div id=\"sk-container-id-3\" class=\"sk-top-container\"><div class=\"sk-text-repr-fallback\"><pre>RandomForestClassifier(random_state=0)</pre><b>In a Jupyter environment, please rerun this cell to show the HTML representation or trust the notebook. <br />On GitHub, the HTML representation is unable to render, please try loading this page with nbviewer.org.</b></div><div class=\"sk-container\" hidden><div class=\"sk-item\"><div class=\"sk-estimator sk-toggleable\"><input class=\"sk-toggleable__control sk-hidden--visually\" id=\"sk-estimator-id-3\" type=\"checkbox\" checked><label for=\"sk-estimator-id-3\" class=\"sk-toggleable__label sk-toggleable__label-arrow\">RandomForestClassifier</label><div class=\"sk-toggleable__content\"><pre>RandomForestClassifier(random_state=0)</pre></div></div></div></div></div>"
      ],
      "text/plain": [
       "RandomForestClassifier(random_state=0)"
      ]
     },
     "execution_count": 40,
     "metadata": {},
     "output_type": "execute_result"
    }
   ],
   "source": [
    "ClasificacionBA = RandomForestClassifier(random_state=0)\n",
    "ClasificacionBA.fit(X_train, Y_train)\n",
    "\n",
    "#ClasificacionBA = RandomForestClassifier(n_estimators=100, ---> aumentar\n",
    "#                                         max_depth=11,  ---> disminuir\n",
    "#                                         min_samples_split=4, \n",
    "#                                         min_samples_leaf=2, \n",
    "#                                         random_state=0)\n",
    "#ClasificacionBA.fit(X_train, Y_train)"
   ]
  },
  {
   "cell_type": "code",
   "execution_count": 41,
   "metadata": {},
   "outputs": [
    {
     "name": "stdout",
     "output_type": "stream",
     "text": [
      "[5 3 1 3 5 3 3 2 3 3 3 3 3 2 3 2 1 3 1 3 1 3 3 4 3 2 3 1 2 1 5 2 2 3 1 5 3\n",
      " 3 1 1 2 4 1 5 1 2 3 2 3 2 3 3 4 5 5 2 2 3 5 3 3 3 2 1 3 1 3 5 5 5 2 0 3 2\n",
      " 2 1 3 2 4 1 5 2 1 3 3 3 4 3 3 3 2 2 1 3 1 2 1 5 3 5 4 3 2 1 1 3 1 2 1 3 1\n",
      " 3 1 4 1 2 3 1 1 3 3 5 0 3 1 1 2 5 3 5 2 3 1 1 5 3 5 3 5 3 1 3 3 3 3 5 1 5\n",
      " 1 3 1 3 2 3 3 3 5 3 1 2 1 3 5 3 5 3 2 1 2 5 5 3 3 5 4 1 4 1 1 3 2 1 3 5 1\n",
      " 3 2 2 2 2 1 5 3 3 3 3 3 3 3 2 2 1 3 3 2 3 3 1 5 2 1 2 0 5 3 3 5 1 3 3 3 5\n",
      " 1 5 3 5 1 3 5 3 3 1 3 2 1 2 5 1 1 5 3 3 3 3 3 3 3 2 0 1 3 3 3 3 3 3 2 3 3\n",
      " 5 3 1 3 5 3 3 3 4 3 2 3 3 3 1 5 2 1 2 1 5 2 1 3 5 3 3 3 3 2 5 2 1 5 5 3 1\n",
      " 2 3 3 3 1 3 3 2 1 2 3 3 3 3 2 2 3 5 2 1 1 1 3 1]\n"
     ]
    }
   ],
   "source": [
    "#Clasificación final \n",
    "Y_ClasificacionBA = ClasificacionBA.predict(X_validation)\n",
    "print(Y_ClasificacionBA)"
   ]
  },
  {
   "cell_type": "code",
   "execution_count": 42,
   "metadata": {},
   "outputs": [
    {
     "data": {
      "text/html": [
       "<div>\n",
       "<style scoped>\n",
       "    .dataframe tbody tr th:only-of-type {\n",
       "        vertical-align: middle;\n",
       "    }\n",
       "\n",
       "    .dataframe tbody tr th {\n",
       "        vertical-align: top;\n",
       "    }\n",
       "\n",
       "    .dataframe thead th {\n",
       "        text-align: right;\n",
       "    }\n",
       "</style>\n",
       "<table border=\"1\" class=\"dataframe\">\n",
       "  <thead>\n",
       "    <tr style=\"text-align: right;\">\n",
       "      <th></th>\n",
       "      <th>0</th>\n",
       "    </tr>\n",
       "  </thead>\n",
       "  <tbody>\n",
       "    <tr>\n",
       "      <th>5</th>\n",
       "      <td>5</td>\n",
       "    </tr>\n",
       "    <tr>\n",
       "      <th>3</th>\n",
       "      <td>3</td>\n",
       "    </tr>\n",
       "    <tr>\n",
       "      <th>1</th>\n",
       "      <td>1</td>\n",
       "    </tr>\n",
       "    <tr>\n",
       "      <th>3</th>\n",
       "      <td>3</td>\n",
       "    </tr>\n",
       "    <tr>\n",
       "      <th>5</th>\n",
       "      <td>5</td>\n",
       "    </tr>\n",
       "    <tr>\n",
       "      <th>...</th>\n",
       "      <td>...</td>\n",
       "    </tr>\n",
       "    <tr>\n",
       "      <th>1</th>\n",
       "      <td>1</td>\n",
       "    </tr>\n",
       "    <tr>\n",
       "      <th>1</th>\n",
       "      <td>1</td>\n",
       "    </tr>\n",
       "    <tr>\n",
       "      <th>1</th>\n",
       "      <td>1</td>\n",
       "    </tr>\n",
       "    <tr>\n",
       "      <th>3</th>\n",
       "      <td>3</td>\n",
       "    </tr>\n",
       "    <tr>\n",
       "      <th>1</th>\n",
       "      <td>1</td>\n",
       "    </tr>\n",
       "  </tbody>\n",
       "</table>\n",
       "<p>320 rows × 1 columns</p>\n",
       "</div>"
      ],
      "text/plain": [
       "    0\n",
       "5   5\n",
       "3   3\n",
       "1   1\n",
       "3   3\n",
       "5   5\n",
       ".. ..\n",
       "1   1\n",
       "1   1\n",
       "1   1\n",
       "3   3\n",
       "1   1\n",
       "\n",
       "[320 rows x 1 columns]"
      ]
     },
     "execution_count": 42,
     "metadata": {},
     "output_type": "execute_result"
    }
   ],
   "source": [
    "ValoresMod2 = pd.DataFrame(Y_validation, Y_ClasificacionBA)\n",
    "ValoresMod2"
   ]
  },
  {
   "cell_type": "code",
   "execution_count": 43,
   "metadata": {},
   "outputs": [
    {
     "data": {
      "text/plain": [
       "0.96875"
      ]
     },
     "execution_count": 43,
     "metadata": {},
     "output_type": "execute_result"
    }
   ],
   "source": [
    "accuracy_score(Y_validation, Y_ClasificacionBA)"
   ]
  },
  {
   "cell_type": "markdown",
   "metadata": {},
   "source": [
    "#### **Matriz de clasificación: Bosques aleatorios**"
   ]
  },
  {
   "cell_type": "code",
   "execution_count": 44,
   "metadata": {},
   "outputs": [
    {
     "data": {
      "text/html": [
       "<div>\n",
       "<style scoped>\n",
       "    .dataframe tbody tr th:only-of-type {\n",
       "        vertical-align: middle;\n",
       "    }\n",
       "\n",
       "    .dataframe tbody tr th {\n",
       "        vertical-align: top;\n",
       "    }\n",
       "\n",
       "    .dataframe thead th {\n",
       "        text-align: right;\n",
       "    }\n",
       "</style>\n",
       "<table border=\"1\" class=\"dataframe\">\n",
       "  <thead>\n",
       "    <tr style=\"text-align: right;\">\n",
       "      <th>Clasificación</th>\n",
       "      <th>0</th>\n",
       "      <th>1</th>\n",
       "      <th>2</th>\n",
       "      <th>3</th>\n",
       "      <th>4</th>\n",
       "      <th>5</th>\n",
       "    </tr>\n",
       "    <tr>\n",
       "      <th>Reales</th>\n",
       "      <th></th>\n",
       "      <th></th>\n",
       "      <th></th>\n",
       "      <th></th>\n",
       "      <th></th>\n",
       "      <th></th>\n",
       "    </tr>\n",
       "  </thead>\n",
       "  <tbody>\n",
       "    <tr>\n",
       "      <th>0</th>\n",
       "      <td>4</td>\n",
       "      <td>0</td>\n",
       "      <td>0</td>\n",
       "      <td>1</td>\n",
       "      <td>0</td>\n",
       "      <td>0</td>\n",
       "    </tr>\n",
       "    <tr>\n",
       "      <th>1</th>\n",
       "      <td>0</td>\n",
       "      <td>67</td>\n",
       "      <td>0</td>\n",
       "      <td>2</td>\n",
       "      <td>0</td>\n",
       "      <td>0</td>\n",
       "    </tr>\n",
       "    <tr>\n",
       "      <th>2</th>\n",
       "      <td>0</td>\n",
       "      <td>0</td>\n",
       "      <td>57</td>\n",
       "      <td>2</td>\n",
       "      <td>1</td>\n",
       "      <td>1</td>\n",
       "    </tr>\n",
       "    <tr>\n",
       "      <th>3</th>\n",
       "      <td>0</td>\n",
       "      <td>0</td>\n",
       "      <td>0</td>\n",
       "      <td>127</td>\n",
       "      <td>0</td>\n",
       "      <td>1</td>\n",
       "    </tr>\n",
       "    <tr>\n",
       "      <th>4</th>\n",
       "      <td>0</td>\n",
       "      <td>0</td>\n",
       "      <td>0</td>\n",
       "      <td>0</td>\n",
       "      <td>9</td>\n",
       "      <td>0</td>\n",
       "    </tr>\n",
       "    <tr>\n",
       "      <th>5</th>\n",
       "      <td>0</td>\n",
       "      <td>2</td>\n",
       "      <td>0</td>\n",
       "      <td>0</td>\n",
       "      <td>0</td>\n",
       "      <td>46</td>\n",
       "    </tr>\n",
       "  </tbody>\n",
       "</table>\n",
       "</div>"
      ],
      "text/plain": [
       "Clasificación  0   1   2    3  4   5\n",
       "Reales                              \n",
       "0              4   0   0    1  0   0\n",
       "1              0  67   0    2  0   0\n",
       "2              0   0  57    2  1   1\n",
       "3              0   0   0  127  0   1\n",
       "4              0   0   0    0  9   0\n",
       "5              0   2   0    0  0  46"
      ]
     },
     "execution_count": 44,
     "metadata": {},
     "output_type": "execute_result"
    }
   ],
   "source": [
    "#Matriz de clasificación\n",
    "ModeloClasificacion2 = ClasificacionBA.predict(X_validation)\n",
    "Matriz_Clasificacion2 = pd.crosstab(Y_validation.ravel(),\n",
    "                                    ModeloClasificacion2,\n",
    "                                    rownames=['Reales'],\n",
    "                                    colnames=['Clasificación']) \n",
    "Matriz_Clasificacion2"
   ]
  },
  {
   "cell_type": "code",
   "execution_count": 45,
   "metadata": {},
   "outputs": [
    {
     "name": "stdout",
     "output_type": "stream",
     "text": [
      "Criterio: \n",
      " gini\n",
      "Importancia variables: \n",
      " [0.22741028 0.10566743 0.06378156 0.27000977 0.08851478 0.24461618]\n",
      "Exactitud: 0.96875\n",
      "              precision    recall  f1-score   support\n",
      "\n",
      "           0       1.00      0.80      0.89         5\n",
      "           1       0.97      0.97      0.97        69\n",
      "           2       1.00      0.93      0.97        61\n",
      "           3       0.96      0.99      0.98       128\n",
      "           4       0.90      1.00      0.95         9\n",
      "           5       0.96      0.96      0.96        48\n",
      "\n",
      "    accuracy                           0.97       320\n",
      "   macro avg       0.97      0.94      0.95       320\n",
      "weighted avg       0.97      0.97      0.97       320\n",
      "\n"
     ]
    }
   ],
   "source": [
    "#Reporte de la clasificación\n",
    "print('Criterio: \\n', ClasificacionBA.criterion)\n",
    "print('Importancia variables: \\n', ClasificacionBA.feature_importances_)\n",
    "print(\"Exactitud:\", accuracy_score(Y_validation, Y_ClasificacionBA))\n",
    "print(classification_report(Y_validation, Y_ClasificacionBA))"
   ]
  },
  {
   "cell_type": "code",
   "execution_count": 62,
   "metadata": {},
   "outputs": [
    {
     "data": {
      "text/html": [
       "<div>\n",
       "<style scoped>\n",
       "    .dataframe tbody tr th:only-of-type {\n",
       "        vertical-align: middle;\n",
       "    }\n",
       "\n",
       "    .dataframe tbody tr th {\n",
       "        vertical-align: top;\n",
       "    }\n",
       "\n",
       "    .dataframe thead th {\n",
       "        text-align: right;\n",
       "    }\n",
       "</style>\n",
       "<table border=\"1\" class=\"dataframe\">\n",
       "  <thead>\n",
       "    <tr style=\"text-align: right;\">\n",
       "      <th></th>\n",
       "      <th>precision</th>\n",
       "      <th>recall</th>\n",
       "      <th>f1-score</th>\n",
       "      <th>support</th>\n",
       "    </tr>\n",
       "  </thead>\n",
       "  <tbody>\n",
       "    <tr>\n",
       "      <th>0</th>\n",
       "      <td>1.00</td>\n",
       "      <td>0.80</td>\n",
       "      <td>0.89</td>\n",
       "      <td>5.00</td>\n",
       "    </tr>\n",
       "    <tr>\n",
       "      <th>1</th>\n",
       "      <td>0.97</td>\n",
       "      <td>0.97</td>\n",
       "      <td>0.97</td>\n",
       "      <td>69.00</td>\n",
       "    </tr>\n",
       "    <tr>\n",
       "      <th>2</th>\n",
       "      <td>1.00</td>\n",
       "      <td>0.93</td>\n",
       "      <td>0.97</td>\n",
       "      <td>61.00</td>\n",
       "    </tr>\n",
       "    <tr>\n",
       "      <th>3</th>\n",
       "      <td>0.96</td>\n",
       "      <td>0.99</td>\n",
       "      <td>0.98</td>\n",
       "      <td>128.00</td>\n",
       "    </tr>\n",
       "    <tr>\n",
       "      <th>4</th>\n",
       "      <td>0.90</td>\n",
       "      <td>1.00</td>\n",
       "      <td>0.95</td>\n",
       "      <td>9.00</td>\n",
       "    </tr>\n",
       "    <tr>\n",
       "      <th>5</th>\n",
       "      <td>0.96</td>\n",
       "      <td>0.96</td>\n",
       "      <td>0.96</td>\n",
       "      <td>48.00</td>\n",
       "    </tr>\n",
       "    <tr>\n",
       "      <th>accuracy</th>\n",
       "      <td>0.97</td>\n",
       "      <td>0.97</td>\n",
       "      <td>0.97</td>\n",
       "      <td>0.97</td>\n",
       "    </tr>\n",
       "    <tr>\n",
       "      <th>macro avg</th>\n",
       "      <td>0.97</td>\n",
       "      <td>0.94</td>\n",
       "      <td>0.95</td>\n",
       "      <td>320.00</td>\n",
       "    </tr>\n",
       "    <tr>\n",
       "      <th>weighted avg</th>\n",
       "      <td>0.97</td>\n",
       "      <td>0.97</td>\n",
       "      <td>0.97</td>\n",
       "      <td>320.00</td>\n",
       "    </tr>\n",
       "  </tbody>\n",
       "</table>\n",
       "</div>"
      ],
      "text/plain": [
       "              precision  recall  f1-score  support\n",
       "0                  1.00    0.80      0.89     5.00\n",
       "1                  0.97    0.97      0.97    69.00\n",
       "2                  1.00    0.93      0.97    61.00\n",
       "3                  0.96    0.99      0.98   128.00\n",
       "4                  0.90    1.00      0.95     9.00\n",
       "5                  0.96    0.96      0.96    48.00\n",
       "accuracy           0.97    0.97      0.97     0.97\n",
       "macro avg          0.97    0.94      0.95   320.00\n",
       "weighted avg       0.97    0.97      0.97   320.00"
      ]
     },
     "execution_count": 62,
     "metadata": {},
     "output_type": "execute_result"
    }
   ],
   "source": [
    "reporte = classification_report(Y_validation, Y_ClasificacionBA, output_dict=True)\n",
    "df_reporte = pd.DataFrame(reporte).transpose()\n",
    "df_reporte = df_reporte.round(2)\n",
    "df_reporte"
   ]
  },
  {
   "cell_type": "markdown",
   "metadata": {},
   "source": [
    "#### **Eficiencia y conformación del modelo de clasificación**\n",
    "* En la matriz de confusión se utilizó 310 instancias de prueba, clasificándose de manera errónea 10 casos. Esto hace que el modelo tenga un 96.87% de exactitud y un 100%, 97%, 100%, 96%, 90% y96% de precisión para las clases 0, 1, 2, 3, 4 y 5, respectivamente.\n",
    "\n",
    "* Por otro lado, el error promedio es casi el 13%."
   ]
  },
  {
   "cell_type": "code",
   "execution_count": 46,
   "metadata": {},
   "outputs": [
    {
     "data": {
      "text/html": [
       "<div>\n",
       "<style scoped>\n",
       "    .dataframe tbody tr th:only-of-type {\n",
       "        vertical-align: middle;\n",
       "    }\n",
       "\n",
       "    .dataframe tbody tr th {\n",
       "        vertical-align: top;\n",
       "    }\n",
       "\n",
       "    .dataframe thead th {\n",
       "        text-align: right;\n",
       "    }\n",
       "</style>\n",
       "<table border=\"1\" class=\"dataframe\">\n",
       "  <thead>\n",
       "    <tr style=\"text-align: right;\">\n",
       "      <th></th>\n",
       "      <th>Variable</th>\n",
       "      <th>Importancia</th>\n",
       "    </tr>\n",
       "  </thead>\n",
       "  <tbody>\n",
       "    <tr>\n",
       "      <th>3</th>\n",
       "      <td>free.sulfur.dioxide</td>\n",
       "      <td>0.270010</td>\n",
       "    </tr>\n",
       "    <tr>\n",
       "      <th>5</th>\n",
       "      <td>alcohol</td>\n",
       "      <td>0.244616</td>\n",
       "    </tr>\n",
       "    <tr>\n",
       "      <th>0</th>\n",
       "      <td>fixed.acidity</td>\n",
       "      <td>0.227410</td>\n",
       "    </tr>\n",
       "    <tr>\n",
       "      <th>1</th>\n",
       "      <td>residual.sugar</td>\n",
       "      <td>0.105667</td>\n",
       "    </tr>\n",
       "    <tr>\n",
       "      <th>4</th>\n",
       "      <td>sulphates</td>\n",
       "      <td>0.088515</td>\n",
       "    </tr>\n",
       "    <tr>\n",
       "      <th>2</th>\n",
       "      <td>chlorides</td>\n",
       "      <td>0.063782</td>\n",
       "    </tr>\n",
       "  </tbody>\n",
       "</table>\n",
       "</div>"
      ],
      "text/plain": [
       "              Variable  Importancia\n",
       "3  free.sulfur.dioxide     0.270010\n",
       "5              alcohol     0.244616\n",
       "0        fixed.acidity     0.227410\n",
       "1       residual.sugar     0.105667\n",
       "4            sulphates     0.088515\n",
       "2            chlorides     0.063782"
      ]
     },
     "execution_count": 46,
     "metadata": {},
     "output_type": "execute_result"
    }
   ],
   "source": [
    "Importancia2 = pd.DataFrame({'Variable': list(Vinos[['fixed.acidity',\n",
    "                    'residual.sugar',\n",
    "                    'chlorides',\n",
    "                    'free.sulfur.dioxide',                    \n",
    "                    'sulphates',\n",
    "                    'alcohol']]), \n",
    "                             'Importancia': ClasificacionBA.feature_importances_}).sort_values('Importancia', ascending=False)\n",
    "Importancia2"
   ]
  },
  {
   "cell_type": "markdown",
   "metadata": {
    "id": "j25AlMnu0fgK"
   },
   "source": [
    "# **III. Validación**\n"
   ]
  },
  {
   "cell_type": "code",
   "execution_count": 51,
   "metadata": {},
   "outputs": [
    {
     "name": "stdout",
     "output_type": "stream",
     "text": [
      "Árbol de decisión: 0.946875\n",
      "Bosque aleatorio: 0.96875\n"
     ]
    }
   ],
   "source": [
    "print(\"Árbol de decisión:\", accuracy_score(Y_validation, Y_ClasificacionAD))\n",
    "print(\"Bosque aleatorio:\", accuracy_score(Y_validation, Y_ClasificacionBA))"
   ]
  },
  {
   "cell_type": "code",
   "execution_count": 48,
   "metadata": {},
   "outputs": [],
   "source": [
    "#Rendimiento\n",
    "from sklearn.preprocessing import label_binarize\n",
    "y_score = ClasificacionBA.predict_proba(X_validation)\n",
    "y_test_bin = label_binarize(Y_validation, classes=[0, \n",
    "                                                   1, \n",
    "                                                   2,\n",
    "                                                   3,\n",
    "                                                   4,\n",
    "                                                   5])\n",
    "n_classes = y_test_bin.shape[1]"
   ]
  },
  {
   "cell_type": "code",
   "execution_count": 49,
   "metadata": {},
   "outputs": [
    {
     "name": "stdout",
     "output_type": "stream",
     "text": [
      "AUC para la clase 0: 0.9999999999999999\n",
      "AUC para la clase 1: 0.9981234482360413\n",
      "AUC para la clase 2: 0.9976897271979239\n",
      "AUC para la clase 3: 0.9988810221354167\n",
      "AUC para la clase 4: 0.997856377277599\n",
      "AUC para la clase 5: 0.9978936887254902\n"
     ]
    },
    {
     "data": {
      "image/png": "[encoded data removed]",
      "text/plain": [
       "<Figure size 640x480 with 1 Axes>"
      ]
     },
     "metadata": {},
     "output_type": "display_data"
    }
   ],
   "source": [
    "#Se calcula la curva ROC y el área bajo la curva para cada clase\n",
    "from sklearn.metrics import roc_curve, auc\n",
    "\n",
    "fpr = dict()\n",
    "tpr = dict()\n",
    "roc_auc = dict()\n",
    "for i in range(n_classes):\n",
    "  fpr[i], tpr[i], _ = roc_curve(y_test_bin[:, i], y_score[:, i])\n",
    "  plt.plot(fpr[i], tpr[i], color='darkorange', lw=2)\n",
    "  print('AUC para la clase {}: {}'.format(i,auc(fpr[i], tpr[i])))\n",
    "\n",
    "plt.plot([0, 1], [0, 1], color='navy', lw=2, linestyle='--')\n",
    "plt.xlim([0.0, 1.0])\n",
    "plt.ylim([0.0, 1.05])\n",
    "plt.xlabel('False Positive Rate')\n",
    "plt.ylabel('True Positive Rate')\n",
    "plt.title('Rendimiento')\n",
    "plt.show()"
   ]
  },
  {
   "cell_type": "markdown",
   "metadata": {
    "id": "KODlugzm0piO"
   },
   "source": [
    "# **IV. Nuevas clasificaciones**\n"
   ]
  },
  {
   "cell_type": "code",
   "execution_count": null,
   "metadata": {
    "colab": {
     "base_uri": "https://localhost:8080/"
    },
    "executionInfo": {
     "elapsed": 366,
     "status": "ok",
     "timestamp": 1668469675522,
     "user": {
      "displayName": "Guillermo Molero-Castillo",
      "userId": "05385957137518665248"
     },
     "user_tz": 360
    },
    "id": "lRPWDAAq6lj0",
    "outputId": "33607682-cff0-43c4-90b6-95707d7ac970"
   },
   "outputs": [],
   "source": [
    "#Calidad del Vino\n",
    "Calidad = pd.DataFrame({'fixed.acidity':[7.4],\n",
    "                    'residual.sugar':[1.9],\n",
    "                    'chlorides':[0.076],\n",
    "                    'free.sulfur.dioxide':[11.0],        \n",
    "                    'sulphates':[0.56],\n",
    "                    'alcohol':[9.4]})\n",
    "ClasificacionBA.predict(Calidad)"
   ]
  },
  {
   "cell_type": "markdown",
   "metadata": {},
   "source": []
  }
 ],
 "metadata": {
  "colab": {
   "authorship_tag": "ABX9TyMM2HGf6YTy6wXk9kbmY/+L",
   "provenance": []
  },
  "kernelspec": {
   "display_name": "Python 3 (ipykernel)",
   "language": "python",
   "name": "python3"
  },
  "language_info": {
   "codemirror_mode": {
    "name": "ipython",
    "version": 3
   },
   "file_extension": ".py",
   "mimetype": "text/x-python",
   "name": "python",
   "nbconvert_exporter": "python",
   "pygments_lexer": "ipython3",
   "version": "3.10.9"
  },
  "vscode": {
   "interpreter": {
    "hash": "66cd771b45013a560b3d35d96a4f4ef96e0f4ad561770d5cbe2ac560353d7279"
   }
  }
 },
 "nbformat": 4,
 "nbformat_minor": 4
}
